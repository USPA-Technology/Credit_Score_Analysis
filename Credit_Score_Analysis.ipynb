{
 "cells": [
  {
   "cell_type": "code",
   "execution_count": 71,
   "metadata": {},
   "outputs": [],
   "source": [
    "import pandas as pd\n",
    "import numpy as np\n",
    "import matplotlib.pyplot as plt\n",
    "import sklearn as sklearn\n",
    "import seaborn as sns\n",
    "%matplotlib inline\n",
    "from scipy import stats"
   ]
  },
  {
   "cell_type": "markdown",
   "metadata": {},
   "source": [
    "# (1) Data Preprocessing"
   ]
  },
  {
   "cell_type": "code",
   "execution_count": 72,
   "metadata": {},
   "outputs": [
    {
     "data": {
      "text/html": [
       "<div>\n",
       "<style scoped>\n",
       "    .dataframe tbody tr th:only-of-type {\n",
       "        vertical-align: middle;\n",
       "    }\n",
       "\n",
       "    .dataframe tbody tr th {\n",
       "        vertical-align: top;\n",
       "    }\n",
       "\n",
       "    .dataframe thead th {\n",
       "        text-align: right;\n",
       "    }\n",
       "</style>\n",
       "<table border=\"1\" class=\"dataframe\">\n",
       "  <thead>\n",
       "    <tr style=\"text-align: right;\">\n",
       "      <th></th>\n",
       "      <th>Status</th>\n",
       "      <th>Seniority</th>\n",
       "      <th>Home</th>\n",
       "      <th>Time</th>\n",
       "      <th>Age</th>\n",
       "      <th>Marital</th>\n",
       "      <th>Records</th>\n",
       "      <th>Job</th>\n",
       "      <th>Expenses</th>\n",
       "      <th>Income</th>\n",
       "      <th>Assets</th>\n",
       "      <th>Debt</th>\n",
       "      <th>Amount</th>\n",
       "      <th>Price</th>\n",
       "      <th>Finrat</th>\n",
       "      <th>Savings</th>\n",
       "    </tr>\n",
       "  </thead>\n",
       "  <tbody>\n",
       "    <tr>\n",
       "      <th>0</th>\n",
       "      <td>good</td>\n",
       "      <td>9</td>\n",
       "      <td>rent</td>\n",
       "      <td>60</td>\n",
       "      <td>30</td>\n",
       "      <td>married</td>\n",
       "      <td>no_rec</td>\n",
       "      <td>freelance</td>\n",
       "      <td>73</td>\n",
       "      <td>129</td>\n",
       "      <td>0</td>\n",
       "      <td>0</td>\n",
       "      <td>800</td>\n",
       "      <td>846</td>\n",
       "      <td>94.562648</td>\n",
       "      <td>4.200000</td>\n",
       "    </tr>\n",
       "    <tr>\n",
       "      <th>1</th>\n",
       "      <td>good</td>\n",
       "      <td>17</td>\n",
       "      <td>rent</td>\n",
       "      <td>60</td>\n",
       "      <td>58</td>\n",
       "      <td>widow</td>\n",
       "      <td>no_rec</td>\n",
       "      <td>fixed</td>\n",
       "      <td>48</td>\n",
       "      <td>131</td>\n",
       "      <td>0</td>\n",
       "      <td>0</td>\n",
       "      <td>1000</td>\n",
       "      <td>1658</td>\n",
       "      <td>60.313631</td>\n",
       "      <td>4.980000</td>\n",
       "    </tr>\n",
       "    <tr>\n",
       "      <th>2</th>\n",
       "      <td>bad</td>\n",
       "      <td>10</td>\n",
       "      <td>owner</td>\n",
       "      <td>36</td>\n",
       "      <td>46</td>\n",
       "      <td>married</td>\n",
       "      <td>yes_rec</td>\n",
       "      <td>freelance</td>\n",
       "      <td>90</td>\n",
       "      <td>200</td>\n",
       "      <td>3000</td>\n",
       "      <td>0</td>\n",
       "      <td>2000</td>\n",
       "      <td>2985</td>\n",
       "      <td>67.001675</td>\n",
       "      <td>1.980000</td>\n",
       "    </tr>\n",
       "    <tr>\n",
       "      <th>3</th>\n",
       "      <td>good</td>\n",
       "      <td>0</td>\n",
       "      <td>rent</td>\n",
       "      <td>60</td>\n",
       "      <td>24</td>\n",
       "      <td>single</td>\n",
       "      <td>no_rec</td>\n",
       "      <td>fixed</td>\n",
       "      <td>63</td>\n",
       "      <td>182</td>\n",
       "      <td>2500</td>\n",
       "      <td>0</td>\n",
       "      <td>900</td>\n",
       "      <td>1325</td>\n",
       "      <td>67.924528</td>\n",
       "      <td>7.933333</td>\n",
       "    </tr>\n",
       "    <tr>\n",
       "      <th>4</th>\n",
       "      <td>good</td>\n",
       "      <td>0</td>\n",
       "      <td>rent</td>\n",
       "      <td>36</td>\n",
       "      <td>26</td>\n",
       "      <td>single</td>\n",
       "      <td>no_rec</td>\n",
       "      <td>fixed</td>\n",
       "      <td>46</td>\n",
       "      <td>107</td>\n",
       "      <td>0</td>\n",
       "      <td>0</td>\n",
       "      <td>310</td>\n",
       "      <td>910</td>\n",
       "      <td>34.065934</td>\n",
       "      <td>7.083871</td>\n",
       "    </tr>\n",
       "  </tbody>\n",
       "</table>\n",
       "</div>"
      ],
      "text/plain": [
       "  Status  Seniority   Home  Time  Age  Marital  Records        Job  Expenses  \\\n",
       "0   good          9   rent    60   30  married   no_rec  freelance        73   \n",
       "1   good         17   rent    60   58    widow   no_rec      fixed        48   \n",
       "2    bad         10  owner    36   46  married  yes_rec  freelance        90   \n",
       "3   good          0   rent    60   24   single   no_rec      fixed        63   \n",
       "4   good          0   rent    36   26   single   no_rec      fixed        46   \n",
       "\n",
       "   Income  Assets  Debt  Amount  Price     Finrat   Savings  \n",
       "0     129       0     0     800    846  94.562648  4.200000  \n",
       "1     131       0     0    1000   1658  60.313631  4.980000  \n",
       "2     200    3000     0    2000   2985  67.001675  1.980000  \n",
       "3     182    2500     0     900   1325  67.924528  7.933333  \n",
       "4     107       0     0     310    910  34.065934  7.083871  "
      ]
     },
     "execution_count": 72,
     "metadata": {},
     "output_type": "execute_result"
    }
   ],
   "source": [
    "data = pd.read_csv(\"CreditScoring(After_Preprocessing).csv\")\n",
    "data.head()"
   ]
  },
  {
   "cell_type": "code",
   "execution_count": 73,
   "metadata": {},
   "outputs": [
    {
     "data": {
      "text/plain": [
       "(4446, 16)"
      ]
     },
     "execution_count": 73,
     "metadata": {},
     "output_type": "execute_result"
    }
   ],
   "source": [
    "## Dataset Dimensions\n",
    "data.shape"
   ]
  },
  {
   "cell_type": "markdown",
   "metadata": {},
   "source": [
    "### Questions to keep in mind:\n",
    "#### (1) check maximum and minimum values\n",
    "#### (2) check the scale of the variables (categorical, continuous, etc)\n",
    "#### (3) look for outliers, weird values, missing values"
   ]
  },
  {
   "cell_type": "code",
   "execution_count": 74,
   "metadata": {},
   "outputs": [
    {
     "data": {
      "text/plain": [
       "Status       False\n",
       "Seniority    False\n",
       "Home         False\n",
       "Time         False\n",
       "Age          False\n",
       "Marital      False\n",
       "Records      False\n",
       "Job          False\n",
       "Expenses     False\n",
       "Income       False\n",
       "Assets       False\n",
       "Debt         False\n",
       "Amount       False\n",
       "Price        False\n",
       "Finrat       False\n",
       "Savings      False\n",
       "dtype: bool"
      ]
     },
     "execution_count": 74,
     "metadata": {},
     "output_type": "execute_result"
    }
   ],
   "source": [
    "# Checking if any Missing Values are there in the Dataset\n",
    "# No Missing Values are there in the Dataset\n",
    "data.isnull().any()"
   ]
  },
  {
   "cell_type": "code",
   "execution_count": 75,
   "metadata": {},
   "outputs": [
    {
     "name": "stdout",
     "output_type": "stream",
     "text": [
      "There are 5 categorical Columns in Dataset\n"
     ]
    }
   ],
   "source": [
    "## checking if any categorical Features are there in the Dataset\n",
    "categorical_data = data.select_dtypes(exclude=[np.number])\n",
    "print (\"There are {} categorical Columns in Dataset\".format(categorical_data.shape[1]))"
   ]
  },
  {
   "cell_type": "code",
   "execution_count": 76,
   "metadata": {},
   "outputs": [
    {
     "data": {
      "text/plain": [
       "Status     True\n",
       "Home       True\n",
       "Marital    True\n",
       "Records    True\n",
       "Job        True\n",
       "dtype: bool"
      ]
     },
     "execution_count": 76,
     "metadata": {},
     "output_type": "execute_result"
    }
   ],
   "source": [
    "# Name of all the Categorical Features Present in the Dataset\n",
    "categorical_data.any()"
   ]
  },
  {
   "cell_type": "code",
   "execution_count": 77,
   "metadata": {},
   "outputs": [],
   "source": [
    "from sklearn.preprocessing import LabelEncoder\n",
    "model = LabelEncoder()\n",
    "data['Status'] = model.fit_transform(data['Status'].astype('str'))\n",
    "data['Home'] = model.fit_transform(data['Home'].astype('str'))\n",
    "data['Marital'] = model.fit_transform(data['Marital'].astype('str'))\n",
    "data['Job'] = model.fit_transform(data['Job'].astype('str'))\n",
    "data['Records'] = model.fit_transform(data['Records'].astype('str'))"
   ]
  },
  {
   "cell_type": "code",
   "execution_count": 78,
   "metadata": {},
   "outputs": [
    {
     "data": {
      "text/plain": [
       "Status         int64\n",
       "Seniority      int64\n",
       "Home           int64\n",
       "Time           int64\n",
       "Age            int64\n",
       "Marital        int64\n",
       "Records        int64\n",
       "Job            int64\n",
       "Expenses       int64\n",
       "Income         int64\n",
       "Assets         int64\n",
       "Debt           int64\n",
       "Amount         int64\n",
       "Price          int64\n",
       "Finrat       float64\n",
       "Savings      float64\n",
       "dtype: object"
      ]
     },
     "execution_count": 78,
     "metadata": {},
     "output_type": "execute_result"
    }
   ],
   "source": [
    "#Checking Data Types of the Features for Confirmation\n",
    "data.dtypes"
   ]
  },
  {
   "cell_type": "markdown",
   "metadata": {},
   "source": [
    "## (2) Data Exploration"
   ]
  },
  {
   "cell_type": "code",
   "execution_count": 79,
   "metadata": {},
   "outputs": [
    {
     "data": {
      "text/html": [
       "<div>\n",
       "<style scoped>\n",
       "    .dataframe tbody tr th:only-of-type {\n",
       "        vertical-align: middle;\n",
       "    }\n",
       "\n",
       "    .dataframe tbody tr th {\n",
       "        vertical-align: top;\n",
       "    }\n",
       "\n",
       "    .dataframe thead th {\n",
       "        text-align: right;\n",
       "    }\n",
       "</style>\n",
       "<table border=\"1\" class=\"dataframe\">\n",
       "  <thead>\n",
       "    <tr style=\"text-align: right;\">\n",
       "      <th></th>\n",
       "      <th>Status</th>\n",
       "      <th>Seniority</th>\n",
       "      <th>Home</th>\n",
       "      <th>Time</th>\n",
       "      <th>Age</th>\n",
       "      <th>Marital</th>\n",
       "      <th>Records</th>\n",
       "      <th>Job</th>\n",
       "      <th>Expenses</th>\n",
       "      <th>Income</th>\n",
       "      <th>Assets</th>\n",
       "      <th>Debt</th>\n",
       "      <th>Amount</th>\n",
       "      <th>Price</th>\n",
       "      <th>Finrat</th>\n",
       "      <th>Savings</th>\n",
       "    </tr>\n",
       "  </thead>\n",
       "  <tbody>\n",
       "    <tr>\n",
       "      <th>count</th>\n",
       "      <td>4446.000000</td>\n",
       "      <td>4446.000000</td>\n",
       "      <td>4446.000000</td>\n",
       "      <td>4446.000000</td>\n",
       "      <td>4446.000000</td>\n",
       "      <td>4446.000000</td>\n",
       "      <td>4446.000000</td>\n",
       "      <td>4446.000000</td>\n",
       "      <td>4446.000000</td>\n",
       "      <td>4446.000000</td>\n",
       "      <td>4446.000000</td>\n",
       "      <td>4446.000000</td>\n",
       "      <td>4446.000000</td>\n",
       "      <td>4446.000000</td>\n",
       "      <td>4446.000000</td>\n",
       "      <td>4446.000000</td>\n",
       "    </tr>\n",
       "    <tr>\n",
       "      <th>mean</th>\n",
       "      <td>0.719073</td>\n",
       "      <td>7.991453</td>\n",
       "      <td>2.862348</td>\n",
       "      <td>46.453441</td>\n",
       "      <td>37.084121</td>\n",
       "      <td>1.503599</td>\n",
       "      <td>0.172964</td>\n",
       "      <td>0.610886</td>\n",
       "      <td>55.601439</td>\n",
       "      <td>140.629780</td>\n",
       "      <td>5354.948943</td>\n",
       "      <td>342.257085</td>\n",
       "      <td>1038.763383</td>\n",
       "      <td>1462.480432</td>\n",
       "      <td>72.616409</td>\n",
       "      <td>3.860083</td>\n",
       "    </tr>\n",
       "    <tr>\n",
       "      <th>std</th>\n",
       "      <td>0.449502</td>\n",
       "      <td>8.176370</td>\n",
       "      <td>1.308943</td>\n",
       "      <td>14.647979</td>\n",
       "      <td>10.986366</td>\n",
       "      <td>0.891838</td>\n",
       "      <td>0.378259</td>\n",
       "      <td>0.960975</td>\n",
       "      <td>19.520839</td>\n",
       "      <td>80.177896</td>\n",
       "      <td>11534.328183</td>\n",
       "      <td>1244.694549</td>\n",
       "      <td>474.747952</td>\n",
       "      <td>628.555171</td>\n",
       "      <td>20.390595</td>\n",
       "      <td>3.726292</td>\n",
       "    </tr>\n",
       "    <tr>\n",
       "      <th>min</th>\n",
       "      <td>0.000000</td>\n",
       "      <td>0.000000</td>\n",
       "      <td>0.000000</td>\n",
       "      <td>6.000000</td>\n",
       "      <td>18.000000</td>\n",
       "      <td>0.000000</td>\n",
       "      <td>0.000000</td>\n",
       "      <td>0.000000</td>\n",
       "      <td>35.000000</td>\n",
       "      <td>1.000000</td>\n",
       "      <td>0.000000</td>\n",
       "      <td>0.000000</td>\n",
       "      <td>100.000000</td>\n",
       "      <td>105.000000</td>\n",
       "      <td>6.702413</td>\n",
       "      <td>-8.160000</td>\n",
       "    </tr>\n",
       "    <tr>\n",
       "      <th>25%</th>\n",
       "      <td>0.000000</td>\n",
       "      <td>2.000000</td>\n",
       "      <td>2.000000</td>\n",
       "      <td>36.000000</td>\n",
       "      <td>28.000000</td>\n",
       "      <td>1.000000</td>\n",
       "      <td>0.000000</td>\n",
       "      <td>0.000000</td>\n",
       "      <td>35.000000</td>\n",
       "      <td>90.000000</td>\n",
       "      <td>0.000000</td>\n",
       "      <td>0.000000</td>\n",
       "      <td>700.000000</td>\n",
       "      <td>1116.250000</td>\n",
       "      <td>60.030020</td>\n",
       "      <td>1.615385</td>\n",
       "    </tr>\n",
       "    <tr>\n",
       "      <th>50%</th>\n",
       "      <td>1.000000</td>\n",
       "      <td>5.000000</td>\n",
       "      <td>2.000000</td>\n",
       "      <td>48.000000</td>\n",
       "      <td>36.000000</td>\n",
       "      <td>1.000000</td>\n",
       "      <td>0.000000</td>\n",
       "      <td>0.000000</td>\n",
       "      <td>51.000000</td>\n",
       "      <td>124.000000</td>\n",
       "      <td>3000.000000</td>\n",
       "      <td>0.000000</td>\n",
       "      <td>1000.000000</td>\n",
       "      <td>1400.000000</td>\n",
       "      <td>77.096757</td>\n",
       "      <td>3.120000</td>\n",
       "    </tr>\n",
       "    <tr>\n",
       "      <th>75%</th>\n",
       "      <td>1.000000</td>\n",
       "      <td>12.000000</td>\n",
       "      <td>4.000000</td>\n",
       "      <td>60.000000</td>\n",
       "      <td>45.000000</td>\n",
       "      <td>2.000000</td>\n",
       "      <td>0.000000</td>\n",
       "      <td>1.000000</td>\n",
       "      <td>72.000000</td>\n",
       "      <td>170.000000</td>\n",
       "      <td>6000.000000</td>\n",
       "      <td>0.000000</td>\n",
       "      <td>1300.000000</td>\n",
       "      <td>1691.500000</td>\n",
       "      <td>88.460263</td>\n",
       "      <td>5.195688</td>\n",
       "    </tr>\n",
       "    <tr>\n",
       "      <th>max</th>\n",
       "      <td>1.000000</td>\n",
       "      <td>48.000000</td>\n",
       "      <td>5.000000</td>\n",
       "      <td>72.000000</td>\n",
       "      <td>68.000000</td>\n",
       "      <td>4.000000</td>\n",
       "      <td>1.000000</td>\n",
       "      <td>3.000000</td>\n",
       "      <td>180.000000</td>\n",
       "      <td>959.000000</td>\n",
       "      <td>300000.000000</td>\n",
       "      <td>30000.000000</td>\n",
       "      <td>5000.000000</td>\n",
       "      <td>11140.000000</td>\n",
       "      <td>100.000000</td>\n",
       "      <td>33.250000</td>\n",
       "    </tr>\n",
       "  </tbody>\n",
       "</table>\n",
       "</div>"
      ],
      "text/plain": [
       "            Status    Seniority         Home         Time          Age  \\\n",
       "count  4446.000000  4446.000000  4446.000000  4446.000000  4446.000000   \n",
       "mean      0.719073     7.991453     2.862348    46.453441    37.084121   \n",
       "std       0.449502     8.176370     1.308943    14.647979    10.986366   \n",
       "min       0.000000     0.000000     0.000000     6.000000    18.000000   \n",
       "25%       0.000000     2.000000     2.000000    36.000000    28.000000   \n",
       "50%       1.000000     5.000000     2.000000    48.000000    36.000000   \n",
       "75%       1.000000    12.000000     4.000000    60.000000    45.000000   \n",
       "max       1.000000    48.000000     5.000000    72.000000    68.000000   \n",
       "\n",
       "           Marital      Records          Job     Expenses       Income  \\\n",
       "count  4446.000000  4446.000000  4446.000000  4446.000000  4446.000000   \n",
       "mean      1.503599     0.172964     0.610886    55.601439   140.629780   \n",
       "std       0.891838     0.378259     0.960975    19.520839    80.177896   \n",
       "min       0.000000     0.000000     0.000000    35.000000     1.000000   \n",
       "25%       1.000000     0.000000     0.000000    35.000000    90.000000   \n",
       "50%       1.000000     0.000000     0.000000    51.000000   124.000000   \n",
       "75%       2.000000     0.000000     1.000000    72.000000   170.000000   \n",
       "max       4.000000     1.000000     3.000000   180.000000   959.000000   \n",
       "\n",
       "              Assets          Debt       Amount         Price       Finrat  \\\n",
       "count    4446.000000   4446.000000  4446.000000   4446.000000  4446.000000   \n",
       "mean     5354.948943    342.257085  1038.763383   1462.480432    72.616409   \n",
       "std     11534.328183   1244.694549   474.747952    628.555171    20.390595   \n",
       "min         0.000000      0.000000   100.000000    105.000000     6.702413   \n",
       "25%         0.000000      0.000000   700.000000   1116.250000    60.030020   \n",
       "50%      3000.000000      0.000000  1000.000000   1400.000000    77.096757   \n",
       "75%      6000.000000      0.000000  1300.000000   1691.500000    88.460263   \n",
       "max    300000.000000  30000.000000  5000.000000  11140.000000   100.000000   \n",
       "\n",
       "           Savings  \n",
       "count  4446.000000  \n",
       "mean      3.860083  \n",
       "std       3.726292  \n",
       "min      -8.160000  \n",
       "25%       1.615385  \n",
       "50%       3.120000  \n",
       "75%       5.195688  \n",
       "max      33.250000  "
      ]
     },
     "execution_count": 79,
     "metadata": {},
     "output_type": "execute_result"
    }
   ],
   "source": [
    "# Summary of the Data\n",
    "data.describe()"
   ]
  },
  {
   "cell_type": "code",
   "execution_count": 80,
   "metadata": {},
   "outputs": [
    {
     "data": {
      "text/plain": [
       "1    3197\n",
       "0    1249\n",
       "Name: Status, dtype: int64"
      ]
     },
     "execution_count": 80,
     "metadata": {},
     "output_type": "execute_result"
    }
   ],
   "source": [
    "## Value Counts of 'GOOD' Status and 'BAD' Status\n",
    "## 'GOOD': 3197 and 'BAD': 1249\n",
    "data.Status.value_counts()"
   ]
  },
  {
   "cell_type": "code",
   "execution_count": 81,
   "metadata": {},
   "outputs": [
    {
     "data": {
      "text/plain": [
       "1    0.719073\n",
       "0    0.280927\n",
       "Name: Status, dtype: float64"
      ]
     },
     "execution_count": 81,
     "metadata": {},
     "output_type": "execute_result"
    }
   ],
   "source": [
    "# As per the Dataset there are approximately 72% GOOD Score and 28% BAD Score instances\n",
    "status_count = data.Status.value_counts()/len(data)\n",
    "status_count"
   ]
  },
  {
   "cell_type": "markdown",
   "metadata": {},
   "source": [
    "## PEARSON’S CORRELATION\n",
    "#### Covariance is rarely used in summary statistics because it is hard to interpret. By itself, it does not provide a sense of how much the two variables vary together, but only their ‘direction’ (if you consider each series to be a vector). The unit of Covariance is also confusing because it is the product of two different units. Pearson’s Correlation divides the Covariance with the product of the standard deviations of both series resulting in a dimensionless value.\n",
    "\n",
    "#### Pearson’s Correlation is bounded in [-1, 1].\n",
    "![Correlation Formula](files/corr.jpg \"Correlation\")\n",
    "#### If it is positive, the two variables tend to be high or low together\n",
    "#### If it is negative, the two variables tend to be opposite of each other\n",
    "#### If it is zero or close to zero they don’t affect each other\n",
    "#### Sx, Sy are the standard deviations of the X, Y series respectively. Standard Deviation (σ) is a measure of the spread of the distribution."
   ]
  },
  {
   "cell_type": "code",
   "execution_count": 82,
   "metadata": {},
   "outputs": [
    {
     "data": {
      "text/plain": [
       "<AxesSubplot:>"
      ]
     },
     "execution_count": 82,
     "metadata": {},
     "output_type": "execute_result"
    },
    {
     "data": {
      "image/png": "[encoded data removed]",
      "text/plain": [
       "<Figure size 432x288 with 2 Axes>"
      ]
     },
     "metadata": {
      "needs_background": "light"
     },
     "output_type": "display_data"
    }
   ],
   "source": [
    "# Correlation between all the Features\n",
    "# Correlation Plot\n",
    "corr = data.corr()\n",
    "sns.heatmap(corr)"
   ]
  },
  {
   "cell_type": "markdown",
   "metadata": {},
   "source": [
    "#### As per the Correlation Matrix and the Correlation Values Calculated we can say that No Feature in the Dataset is highly Correlated with the Target Attribute 'Status'. Hence, there is no need for Feature Selection as of now and the Classification Model Such as 'Linear Regression ' and 'Logistic Regression' etc, can be performed directly on all the Features of the Dataset."
   ]
  },
  {
   "cell_type": "code",
   "execution_count": 83,
   "metadata": {},
   "outputs": [
    {
     "name": "stdout",
     "output_type": "stream",
     "text": [
      "Status       1.000000\n",
      "Seniority    0.259742\n",
      "Savings      0.185516\n",
      "Income       0.144362\n",
      "Assets       0.097239\n",
      "Age          0.095305\n",
      "Price       -0.010144\n",
      "Debt        -0.010408\n",
      "Expenses    -0.029633\n",
      "Marital     -0.072958\n",
      "Name: Status, dtype: float64 \n",
      "\n",
      "Home      -0.123475\n",
      "Amount    -0.154325\n",
      "Finrat    -0.221790\n",
      "Job       -0.267701\n",
      "Records   -0.277817\n",
      "Name: Status, dtype: float64\n"
     ]
    }
   ],
   "source": [
    "## Correlation Values of all the Features with respect to Target Variable 'Status' \n",
    "## Top 10 Values\n",
    "print (corr['Status'].sort_values(ascending=False)[:10], '\\n')\n",
    "\n",
    "## Last 5 Values\n",
    "print (corr['Status'].sort_values(ascending=False)[-5:])"
   ]
  },
  {
   "cell_type": "code",
   "execution_count": 84,
   "metadata": {},
   "outputs": [
    {
     "name": "stderr",
     "output_type": "stream",
     "text": [
      "/var/folders/v3/qlx0_w151sqf0hkwm9rrfqjc0000gn/T/ipykernel_2771/1435631203.py:16: FutureWarning: this method is deprecated in favour of `Styler.format(precision=..)`\n",
      "  corr.style.background_gradient(cmap, axis=1)\\\n"
     ]
    },
    {
     "data": {
      "text/html": [
       "<style type=\"text/css\">\n",
       "#T_a8806_ th {\n",
       "  font-size: 7pt;\n",
       "}\n",
       "#T_a8806_ td {\n",
       "  padding: 0em 0em;\n",
       "}\n",
       "#T_a8806_ th:hover {\n",
       "  font-size: 15pt;\n",
       "}\n",
       "#T_a8806_ tr:hover td:hover {\n",
       "  max-width: 200px;\n",
       "  font-size: 15pt;\n",
       "}\n",
       "#T_a8806_row0_col0, #T_a8806_row1_col1, #T_a8806_row2_col2, #T_a8806_row3_col3, #T_a8806_row4_col4, #T_a8806_row5_col5, #T_a8806_row6_col6, #T_a8806_row7_col7, #T_a8806_row8_col8, #T_a8806_row9_col9, #T_a8806_row10_col10, #T_a8806_row11_col11, #T_a8806_row12_col12, #T_a8806_row13_col13, #T_a8806_row14_col14, #T_a8806_row15_col15 {\n",
       "  background-color: #4479bb;\n",
       "  color: #f1f1f1;\n",
       "  max-width: 80px;\n",
       "  font-size: 10pt;\n",
       "}\n",
       "#T_a8806_row0_col1 {\n",
       "  background-color: #eed4d9;\n",
       "  color: #000000;\n",
       "  max-width: 80px;\n",
       "  font-size: 10pt;\n",
       "}\n",
       "#T_a8806_row0_col2, #T_a8806_row1_col2, #T_a8806_row2_col15, #T_a8806_row3_col6, #T_a8806_row9_col14 {\n",
       "  background-color: #de667e;\n",
       "  color: #f1f1f1;\n",
       "  max-width: 80px;\n",
       "  font-size: 10pt;\n",
       "}\n",
       "#T_a8806_row0_col3 {\n",
       "  background-color: #df6d84;\n",
       "  color: #f1f1f1;\n",
       "  max-width: 80px;\n",
       "  font-size: 10pt;\n",
       "}\n",
       "#T_a8806_row0_col4, #T_a8806_row5_col6, #T_a8806_row5_col11, #T_a8806_row9_col12, #T_a8806_row15_col0 {\n",
       "  background-color: #e7a5b2;\n",
       "  color: #000000;\n",
       "  max-width: 80px;\n",
       "  font-size: 10pt;\n",
       "}\n",
       "#T_a8806_row0_col5, #T_a8806_row7_col8, #T_a8806_row14_col10 {\n",
       "  background-color: #e0768b;\n",
       "  color: #f1f1f1;\n",
       "  max-width: 80px;\n",
       "  font-size: 10pt;\n",
       "}\n",
       "#T_a8806_row0_col6, #T_a8806_row1_col7, #T_a8806_row2_col10, #T_a8806_row3_col0, #T_a8806_row4_col5, #T_a8806_row5_col8, #T_a8806_row6_col0, #T_a8806_row7_col0, #T_a8806_row7_col1, #T_a8806_row8_col5, #T_a8806_row9_col5, #T_a8806_row10_col2, #T_a8806_row11_col2, #T_a8806_row12_col0, #T_a8806_row13_col14, #T_a8806_row14_col0, #T_a8806_row15_col12 {\n",
       "  background-color: #d73c5b;\n",
       "  color: #f1f1f1;\n",
       "  max-width: 80px;\n",
       "  font-size: 10pt;\n",
       "}\n",
       "#T_a8806_row0_col7 {\n",
       "  background-color: #d83e5d;\n",
       "  color: #f1f1f1;\n",
       "  max-width: 80px;\n",
       "  font-size: 10pt;\n",
       "}\n",
       "#T_a8806_row0_col8, #T_a8806_row7_col12, #T_a8806_row10_col7, #T_a8806_row13_col4 {\n",
       "  background-color: #e28194;\n",
       "  color: #f1f1f1;\n",
       "  max-width: 80px;\n",
       "  font-size: 10pt;\n",
       "}\n",
       "#T_a8806_row0_col9 {\n",
       "  background-color: #e9b4be;\n",
       "  color: #000000;\n",
       "  max-width: 80px;\n",
       "  font-size: 10pt;\n",
       "}\n",
       "#T_a8806_row0_col10, #T_a8806_row7_col5 {\n",
       "  background-color: #e7a7b4;\n",
       "  color: #000000;\n",
       "  max-width: 80px;\n",
       "  font-size: 10pt;\n",
       "}\n",
       "#T_a8806_row0_col11, #T_a8806_row0_col13, #T_a8806_row1_col12, #T_a8806_row3_col13, #T_a8806_row14_col5 {\n",
       "  background-color: #e28799;\n",
       "  color: #f1f1f1;\n",
       "  max-width: 80px;\n",
       "  font-size: 10pt;\n",
       "}\n",
       "#T_a8806_row0_col12, #T_a8806_row9_col3, #T_a8806_row11_col14, #T_a8806_row11_col15, #T_a8806_row13_col15, #T_a8806_row15_col2, #T_a8806_row15_col8 {\n",
       "  background-color: #dc5e77;\n",
       "  color: #f1f1f1;\n",
       "  max-width: 80px;\n",
       "  font-size: 10pt;\n",
       "}\n",
       "#T_a8806_row0_col14, #T_a8806_row3_col4 {\n",
       "  background-color: #da4b68;\n",
       "  color: #f1f1f1;\n",
       "  max-width: 80px;\n",
       "  font-size: 10pt;\n",
       "}\n",
       "#T_a8806_row0_col15, #T_a8806_row5_col2 {\n",
       "  background-color: #ebbfc8;\n",
       "  color: #000000;\n",
       "  max-width: 80px;\n",
       "  font-size: 10pt;\n",
       "}\n",
       "#T_a8806_row1_col0 {\n",
       "  background-color: #eed3d8;\n",
       "  color: #000000;\n",
       "  max-width: 80px;\n",
       "  font-size: 10pt;\n",
       "}\n",
       "#T_a8806_row1_col3, #T_a8806_row1_col11, #T_a8806_row2_col5 {\n",
       "  background-color: #e28396;\n",
       "  color: #f1f1f1;\n",
       "  max-width: 80px;\n",
       "  font-size: 10pt;\n",
       "}\n",
       "#T_a8806_row1_col4 {\n",
       "  background-color: #cbd7e6;\n",
       "  color: #000000;\n",
       "  max-width: 80px;\n",
       "  font-size: 10pt;\n",
       "}\n",
       "#T_a8806_row1_col5, #T_a8806_row14_col13 {\n",
       "  background-color: #d94764;\n",
       "  color: #f1f1f1;\n",
       "  max-width: 80px;\n",
       "  font-size: 10pt;\n",
       "}\n",
       "#T_a8806_row1_col6, #T_a8806_row14_col8 {\n",
       "  background-color: #e28497;\n",
       "  color: #f1f1f1;\n",
       "  max-width: 80px;\n",
       "  font-size: 10pt;\n",
       "}\n",
       "#T_a8806_row1_col8, #T_a8806_row1_col9, #T_a8806_row1_col10, #T_a8806_row4_col15 {\n",
       "  background-color: #e8adb8;\n",
       "  color: #000000;\n",
       "  max-width: 80px;\n",
       "  font-size: 10pt;\n",
       "}\n",
       "#T_a8806_row1_col13 {\n",
       "  background-color: #e494a4;\n",
       "  color: #f1f1f1;\n",
       "  max-width: 80px;\n",
       "  font-size: 10pt;\n",
       "}\n",
       "#T_a8806_row1_col14, #T_a8806_row7_col3, #T_a8806_row14_col4 {\n",
       "  background-color: #e07389;\n",
       "  color: #f1f1f1;\n",
       "  max-width: 80px;\n",
       "  font-size: 10pt;\n",
       "}\n",
       "#T_a8806_row1_col15 {\n",
       "  background-color: #e7a4b1;\n",
       "  color: #000000;\n",
       "  max-width: 80px;\n",
       "  font-size: 10pt;\n",
       "}\n",
       "#T_a8806_row2_col0, #T_a8806_row11_col4 {\n",
       "  background-color: #da4d69;\n",
       "  color: #f1f1f1;\n",
       "  max-width: 80px;\n",
       "  font-size: 10pt;\n",
       "}\n",
       "#T_a8806_row2_col1 {\n",
       "  background-color: #da4e6a;\n",
       "  color: #f1f1f1;\n",
       "  max-width: 80px;\n",
       "  font-size: 10pt;\n",
       "}\n",
       "#T_a8806_row2_col3, #T_a8806_row13_col1, #T_a8806_row13_col8, #T_a8806_row13_col11, #T_a8806_row14_col11, #T_a8806_row15_col10 {\n",
       "  background-color: #e18093;\n",
       "  color: #f1f1f1;\n",
       "  max-width: 80px;\n",
       "  font-size: 10pt;\n",
       "}\n",
       "#T_a8806_row2_col4, #T_a8806_row3_col9 {\n",
       "  background-color: #db526e;\n",
       "  color: #f1f1f1;\n",
       "  max-width: 80px;\n",
       "  font-size: 10pt;\n",
       "}\n",
       "#T_a8806_row2_col6, #T_a8806_row5_col1, #T_a8806_row9_col6, #T_a8806_row10_col8 {\n",
       "  background-color: #e0798d;\n",
       "  color: #f1f1f1;\n",
       "  max-width: 80px;\n",
       "  font-size: 10pt;\n",
       "}\n",
       "#T_a8806_row2_col7, #T_a8806_row7_col4, #T_a8806_row7_col13 {\n",
       "  background-color: #e0778c;\n",
       "  color: #f1f1f1;\n",
       "  max-width: 80px;\n",
       "  font-size: 10pt;\n",
       "}\n",
       "#T_a8806_row2_col8, #T_a8806_row6_col12 {\n",
       "  background-color: #e8aab6;\n",
       "  color: #000000;\n",
       "  max-width: 80px;\n",
       "  font-size: 10pt;\n",
       "}\n",
       "#T_a8806_row2_col9, #T_a8806_row14_col1 {\n",
       "  background-color: #de687f;\n",
       "  color: #f1f1f1;\n",
       "  max-width: 80px;\n",
       "  font-size: 10pt;\n",
       "}\n",
       "#T_a8806_row2_col11, #T_a8806_row3_col1, #T_a8806_row11_col1, #T_a8806_row12_col5 {\n",
       "  background-color: #db5570;\n",
       "  color: #f1f1f1;\n",
       "  max-width: 80px;\n",
       "  font-size: 10pt;\n",
       "}\n",
       "#T_a8806_row2_col12, #T_a8806_row7_col9, #T_a8806_row12_col1, #T_a8806_row15_col6 {\n",
       "  background-color: #de6980;\n",
       "  color: #f1f1f1;\n",
       "  max-width: 80px;\n",
       "  font-size: 10pt;\n",
       "}\n",
       "#T_a8806_row2_col13, #T_a8806_row11_col0, #T_a8806_row11_col7, #T_a8806_row13_col2, #T_a8806_row14_col15 {\n",
       "  background-color: #db5872;\n",
       "  color: #f1f1f1;\n",
       "  max-width: 80px;\n",
       "  font-size: 10pt;\n",
       "}\n",
       "#T_a8806_row2_col14, #T_a8806_row4_col11, #T_a8806_row9_col1, #T_a8806_row12_col6 {\n",
       "  background-color: #e48e9f;\n",
       "  color: #f1f1f1;\n",
       "  max-width: 80px;\n",
       "  font-size: 10pt;\n",
       "}\n",
       "#T_a8806_row3_col2, #T_a8806_row11_col13, #T_a8806_row15_col5 {\n",
       "  background-color: #de6b82;\n",
       "  color: #f1f1f1;\n",
       "  max-width: 80px;\n",
       "  font-size: 10pt;\n",
       "}\n",
       "#T_a8806_row3_col5 {\n",
       "  background-color: #da506b;\n",
       "  color: #f1f1f1;\n",
       "  max-width: 80px;\n",
       "  font-size: 10pt;\n",
       "}\n",
       "#T_a8806_row3_col7, #T_a8806_row15_col7, #T_a8806_row15_col14 {\n",
       "  background-color: #d84361;\n",
       "  color: #f1f1f1;\n",
       "  max-width: 80px;\n",
       "  font-size: 10pt;\n",
       "}\n",
       "#T_a8806_row3_col8 {\n",
       "  background-color: #dc5c76;\n",
       "  color: #f1f1f1;\n",
       "  max-width: 80px;\n",
       "  font-size: 10pt;\n",
       "}\n",
       "#T_a8806_row3_col10 {\n",
       "  background-color: #d8415f;\n",
       "  color: #f1f1f1;\n",
       "  max-width: 80px;\n",
       "  font-size: 10pt;\n",
       "}\n",
       "#T_a8806_row3_col11, #T_a8806_row13_col0 {\n",
       "  background-color: #df7086;\n",
       "  color: #f1f1f1;\n",
       "  max-width: 80px;\n",
       "  font-size: 10pt;\n",
       "}\n",
       "#T_a8806_row3_col12 {\n",
       "  background-color: #f2ebec;\n",
       "  color: #000000;\n",
       "  max-width: 80px;\n",
       "  font-size: 10pt;\n",
       "}\n",
       "#T_a8806_row3_col14 {\n",
       "  background-color: #ebedf1;\n",
       "  color: #000000;\n",
       "  max-width: 80px;\n",
       "  font-size: 10pt;\n",
       "}\n",
       "#T_a8806_row3_col15, #T_a8806_row4_col2, #T_a8806_row15_col4 {\n",
       "  background-color: #e17e92;\n",
       "  color: #f1f1f1;\n",
       "  max-width: 80px;\n",
       "  font-size: 10pt;\n",
       "}\n",
       "#T_a8806_row4_col0, #T_a8806_row8_col11 {\n",
       "  background-color: #e9b5bf;\n",
       "  color: #000000;\n",
       "  max-width: 80px;\n",
       "  font-size: 10pt;\n",
       "}\n",
       "#T_a8806_row4_col1 {\n",
       "  background-color: #c3d1e4;\n",
       "  color: #000000;\n",
       "  max-width: 80px;\n",
       "  font-size: 10pt;\n",
       "}\n",
       "#T_a8806_row4_col3, #T_a8806_row7_col2, #T_a8806_row13_col6, #T_a8806_row14_col6, #T_a8806_row14_col7 {\n",
       "  background-color: #e38d9e;\n",
       "  color: #f1f1f1;\n",
       "  max-width: 80px;\n",
       "  font-size: 10pt;\n",
       "}\n",
       "#T_a8806_row4_col6, #T_a8806_row8_col0, #T_a8806_row10_col4 {\n",
       "  background-color: #e8abb7;\n",
       "  color: #000000;\n",
       "  max-width: 80px;\n",
       "  font-size: 10pt;\n",
       "}\n",
       "#T_a8806_row4_col7, #T_a8806_row6_col7, #T_a8806_row15_col3 {\n",
       "  background-color: #e38a9c;\n",
       "  color: #f1f1f1;\n",
       "  max-width: 80px;\n",
       "  font-size: 10pt;\n",
       "}\n",
       "#T_a8806_row4_col8 {\n",
       "  background-color: #f0dee2;\n",
       "  color: #000000;\n",
       "  max-width: 80px;\n",
       "  font-size: 10pt;\n",
       "}\n",
       "#T_a8806_row4_col9 {\n",
       "  background-color: #ecc3cb;\n",
       "  color: #000000;\n",
       "  max-width: 80px;\n",
       "  font-size: 10pt;\n",
       "}\n",
       "#T_a8806_row4_col10, #T_a8806_row5_col7 {\n",
       "  background-color: #edccd2;\n",
       "  color: #000000;\n",
       "  max-width: 80px;\n",
       "  font-size: 10pt;\n",
       "}\n",
       "#T_a8806_row4_col12, #T_a8806_row5_col10, #T_a8806_row6_col13, #T_a8806_row8_col7 {\n",
       "  background-color: #e7a3b0;\n",
       "  color: #000000;\n",
       "  max-width: 80px;\n",
       "  font-size: 10pt;\n",
       "}\n",
       "#T_a8806_row4_col13, #T_a8806_row5_col3, #T_a8806_row8_col15, #T_a8806_row12_col9 {\n",
       "  background-color: #e7a8b5;\n",
       "  color: #000000;\n",
       "  max-width: 80px;\n",
       "  font-size: 10pt;\n",
       "}\n",
       "#T_a8806_row4_col14, #T_a8806_row6_col3 {\n",
       "  background-color: #e492a3;\n",
       "  color: #f1f1f1;\n",
       "  max-width: 80px;\n",
       "  font-size: 10pt;\n",
       "}\n",
       "#T_a8806_row5_col0, #T_a8806_row10_col12 {\n",
       "  background-color: #e6a0ae;\n",
       "  color: #000000;\n",
       "  max-width: 80px;\n",
       "  font-size: 10pt;\n",
       "}\n",
       "#T_a8806_row5_col4, #T_a8806_row10_col3 {\n",
       "  background-color: #dc5973;\n",
       "  color: #f1f1f1;\n",
       "  max-width: 80px;\n",
       "  font-size: 10pt;\n",
       "}\n",
       "#T_a8806_row5_col9, #T_a8806_row6_col2, #T_a8806_row6_col10 {\n",
       "  background-color: #e48fa0;\n",
       "  color: #f1f1f1;\n",
       "  max-width: 80px;\n",
       "  font-size: 10pt;\n",
       "}\n",
       "#T_a8806_row5_col12 {\n",
       "  background-color: #e6a1af;\n",
       "  color: #000000;\n",
       "  max-width: 80px;\n",
       "  font-size: 10pt;\n",
       "}\n",
       "#T_a8806_row5_col13, #T_a8806_row6_col14, #T_a8806_row7_col14, #T_a8806_row14_col2 {\n",
       "  background-color: #e599a8;\n",
       "  color: #000000;\n",
       "  max-width: 80px;\n",
       "  font-size: 10pt;\n",
       "}\n",
       "#T_a8806_row5_col14 {\n",
       "  background-color: #eabbc4;\n",
       "  color: #000000;\n",
       "  max-width: 80px;\n",
       "  font-size: 10pt;\n",
       "}\n",
       "#T_a8806_row5_col15, #T_a8806_row8_col3 {\n",
       "  background-color: #e9b2bd;\n",
       "  color: #000000;\n",
       "  max-width: 80px;\n",
       "  font-size: 10pt;\n",
       "}\n",
       "#T_a8806_row6_col1, #T_a8806_row7_col11 {\n",
       "  background-color: #e28698;\n",
       "  color: #f1f1f1;\n",
       "  max-width: 80px;\n",
       "  font-size: 10pt;\n",
       "}\n",
       "#T_a8806_row6_col4, #T_a8806_row6_col8, #T_a8806_row11_col10, #T_a8806_row13_col3 {\n",
       "  background-color: #e69caa;\n",
       "  color: #000000;\n",
       "  max-width: 80px;\n",
       "  font-size: 10pt;\n",
       "}\n",
       "#T_a8806_row6_col5, #T_a8806_row10_col6 {\n",
       "  background-color: #e17a8f;\n",
       "  color: #f1f1f1;\n",
       "  max-width: 80px;\n",
       "  font-size: 10pt;\n",
       "}\n",
       "#T_a8806_row6_col9, #T_a8806_row10_col1, #T_a8806_row12_col10 {\n",
       "  background-color: #e59aa9;\n",
       "  color: #000000;\n",
       "  max-width: 80px;\n",
       "  font-size: 10pt;\n",
       "}\n",
       "#T_a8806_row6_col11, #T_a8806_row10_col0 {\n",
       "  background-color: #e491a1;\n",
       "  color: #f1f1f1;\n",
       "  max-width: 80px;\n",
       "  font-size: 10pt;\n",
       "}\n",
       "#T_a8806_row6_col15, #T_a8806_row7_col6, #T_a8806_row10_col15, #T_a8806_row15_col1 {\n",
       "  background-color: #e3889a;\n",
       "  color: #f1f1f1;\n",
       "  max-width: 80px;\n",
       "  font-size: 10pt;\n",
       "}\n",
       "#T_a8806_row7_col10, #T_a8806_row9_col0 {\n",
       "  background-color: #e595a5;\n",
       "  color: #000000;\n",
       "  max-width: 80px;\n",
       "  font-size: 10pt;\n",
       "}\n",
       "#T_a8806_row7_col15 {\n",
       "  background-color: #dd657d;\n",
       "  color: #f1f1f1;\n",
       "  max-width: 80px;\n",
       "  font-size: 10pt;\n",
       "}\n",
       "#T_a8806_row8_col1 {\n",
       "  background-color: #eed2d7;\n",
       "  color: #000000;\n",
       "  max-width: 80px;\n",
       "  font-size: 10pt;\n",
       "}\n",
       "#T_a8806_row8_col2 {\n",
       "  background-color: #efdde0;\n",
       "  color: #000000;\n",
       "  max-width: 80px;\n",
       "  font-size: 10pt;\n",
       "}\n",
       "#T_a8806_row8_col4 {\n",
       "  background-color: #f2eff0;\n",
       "  color: #000000;\n",
       "  max-width: 80px;\n",
       "  font-size: 10pt;\n",
       "}\n",
       "#T_a8806_row8_col6 {\n",
       "  background-color: #ebc1c9;\n",
       "  color: #000000;\n",
       "  max-width: 80px;\n",
       "  font-size: 10pt;\n",
       "}\n",
       "#T_a8806_row8_col9 {\n",
       "  background-color: #f2f1f1;\n",
       "  color: #000000;\n",
       "  max-width: 80px;\n",
       "  font-size: 10pt;\n",
       "}\n",
       "#T_a8806_row8_col10, #T_a8806_row10_col9, #T_a8806_row13_col9 {\n",
       "  background-color: #eab7c1;\n",
       "  color: #000000;\n",
       "  max-width: 80px;\n",
       "  font-size: 10pt;\n",
       "}\n",
       "#T_a8806_row8_col12 {\n",
       "  background-color: #ebbec6;\n",
       "  color: #000000;\n",
       "  max-width: 80px;\n",
       "  font-size: 10pt;\n",
       "}\n",
       "#T_a8806_row8_col13 {\n",
       "  background-color: #eabcc5;\n",
       "  color: #000000;\n",
       "  max-width: 80px;\n",
       "  font-size: 10pt;\n",
       "}\n",
       "#T_a8806_row8_col14 {\n",
       "  background-color: #eab8c2;\n",
       "  color: #000000;\n",
       "  max-width: 80px;\n",
       "  font-size: 10pt;\n",
       "}\n",
       "#T_a8806_row9_col2 {\n",
       "  background-color: #dc5b75;\n",
       "  color: #f1f1f1;\n",
       "  max-width: 80px;\n",
       "  font-size: 10pt;\n",
       "}\n",
       "#T_a8806_row9_col4, #T_a8806_row9_col11 {\n",
       "  background-color: #e597a7;\n",
       "  color: #000000;\n",
       "  max-width: 80px;\n",
       "  font-size: 10pt;\n",
       "}\n",
       "#T_a8806_row9_col7 {\n",
       "  background-color: #d84462;\n",
       "  color: #f1f1f1;\n",
       "  max-width: 80px;\n",
       "  font-size: 10pt;\n",
       "}\n",
       "#T_a8806_row9_col8 {\n",
       "  background-color: #eab9c3;\n",
       "  color: #000000;\n",
       "  max-width: 80px;\n",
       "  font-size: 10pt;\n",
       "}\n",
       "#T_a8806_row9_col10, #T_a8806_row9_col13 {\n",
       "  background-color: #e8aeba;\n",
       "  color: #000000;\n",
       "  max-width: 80px;\n",
       "  font-size: 10pt;\n",
       "}\n",
       "#T_a8806_row9_col15 {\n",
       "  background-color: #99b4d6;\n",
       "  color: #000000;\n",
       "  max-width: 80px;\n",
       "  font-size: 10pt;\n",
       "}\n",
       "#T_a8806_row10_col5, #T_a8806_row11_col8 {\n",
       "  background-color: #dd6179;\n",
       "  color: #f1f1f1;\n",
       "  max-width: 80px;\n",
       "  font-size: 10pt;\n",
       "}\n",
       "#T_a8806_row10_col11, #T_a8806_row10_col13, #T_a8806_row13_col10 {\n",
       "  background-color: #e9afbb;\n",
       "  color: #000000;\n",
       "  max-width: 80px;\n",
       "  font-size: 10pt;\n",
       "}\n",
       "#T_a8806_row10_col14, #T_a8806_row11_col12, #T_a8806_row15_col11 {\n",
       "  background-color: #de6c83;\n",
       "  color: #f1f1f1;\n",
       "  max-width: 80px;\n",
       "  font-size: 10pt;\n",
       "}\n",
       "#T_a8806_row11_col3 {\n",
       "  background-color: #df6f85;\n",
       "  color: #f1f1f1;\n",
       "  max-width: 80px;\n",
       "  font-size: 10pt;\n",
       "}\n",
       "#T_a8806_row11_col5 {\n",
       "  background-color: #d94a67;\n",
       "  color: #f1f1f1;\n",
       "  max-width: 80px;\n",
       "  font-size: 10pt;\n",
       "}\n",
       "#T_a8806_row11_col6, #T_a8806_row12_col7 {\n",
       "  background-color: #dd637c;\n",
       "  color: #f1f1f1;\n",
       "  max-width: 80px;\n",
       "  font-size: 10pt;\n",
       "}\n",
       "#T_a8806_row11_col9 {\n",
       "  background-color: #e38b9d;\n",
       "  color: #f1f1f1;\n",
       "  max-width: 80px;\n",
       "  font-size: 10pt;\n",
       "}\n",
       "#T_a8806_row12_col2 {\n",
       "  background-color: #dd627b;\n",
       "  color: #f1f1f1;\n",
       "  max-width: 80px;\n",
       "  font-size: 10pt;\n",
       "}\n",
       "#T_a8806_row12_col3 {\n",
       "  background-color: #eff0f2;\n",
       "  color: #000000;\n",
       "  max-width: 80px;\n",
       "  font-size: 10pt;\n",
       "}\n",
       "#T_a8806_row12_col4 {\n",
       "  background-color: #e0748a;\n",
       "  color: #f1f1f1;\n",
       "  max-width: 80px;\n",
       "  font-size: 10pt;\n",
       "}\n",
       "#T_a8806_row12_col8, #T_a8806_row12_col11, #T_a8806_row14_col9 {\n",
       "  background-color: #e17c90;\n",
       "  color: #f1f1f1;\n",
       "  max-width: 80px;\n",
       "  font-size: 10pt;\n",
       "}\n",
       "#T_a8806_row12_col13 {\n",
       "  background-color: #95b1d5;\n",
       "  color: #000000;\n",
       "  max-width: 80px;\n",
       "  font-size: 10pt;\n",
       "}\n",
       "#T_a8806_row12_col14 {\n",
       "  background-color: #e2e7ee;\n",
       "  color: #000000;\n",
       "  max-width: 80px;\n",
       "  font-size: 10pt;\n",
       "}\n",
       "#T_a8806_row12_col15 {\n",
       "  background-color: #d73d5c;\n",
       "  color: #f1f1f1;\n",
       "  max-width: 80px;\n",
       "  font-size: 10pt;\n",
       "}\n",
       "#T_a8806_row13_col5, #T_a8806_row15_col13 {\n",
       "  background-color: #db546f;\n",
       "  color: #f1f1f1;\n",
       "  max-width: 80px;\n",
       "  font-size: 10pt;\n",
       "}\n",
       "#T_a8806_row13_col7 {\n",
       "  background-color: #dd5f78;\n",
       "  color: #f1f1f1;\n",
       "  max-width: 80px;\n",
       "  font-size: 10pt;\n",
       "}\n",
       "#T_a8806_row13_col12 {\n",
       "  background-color: #94b0d4;\n",
       "  color: #000000;\n",
       "  max-width: 80px;\n",
       "  font-size: 10pt;\n",
       "}\n",
       "#T_a8806_row14_col3 {\n",
       "  background-color: #dbe2eb;\n",
       "  color: #000000;\n",
       "  max-width: 80px;\n",
       "  font-size: 10pt;\n",
       "}\n",
       "#T_a8806_row14_col12 {\n",
       "  background-color: #dae1eb;\n",
       "  color: #000000;\n",
       "  max-width: 80px;\n",
       "  font-size: 10pt;\n",
       "}\n",
       "#T_a8806_row15_col9 {\n",
       "  background-color: #98b3d6;\n",
       "  color: #000000;\n",
       "  max-width: 80px;\n",
       "  font-size: 10pt;\n",
       "}\n",
       "</style>\n",
       "<table id=\"T_a8806_\">\n",
       "  <caption>Hover to magify</caption>\n",
       "  <thead>\n",
       "    <tr>\n",
       "      <th class=\"blank level0\" >&nbsp;</th>\n",
       "      <th class=\"col_heading level0 col0\" >Status</th>\n",
       "      <th class=\"col_heading level0 col1\" >Seniority</th>\n",
       "      <th class=\"col_heading level0 col2\" >Home</th>\n",
       "      <th class=\"col_heading level0 col3\" >Time</th>\n",
       "      <th class=\"col_heading level0 col4\" >Age</th>\n",
       "      <th class=\"col_heading level0 col5\" >Marital</th>\n",
       "      <th class=\"col_heading level0 col6\" >Records</th>\n",
       "      <th class=\"col_heading level0 col7\" >Job</th>\n",
       "      <th class=\"col_heading level0 col8\" >Expenses</th>\n",
       "      <th class=\"col_heading level0 col9\" >Income</th>\n",
       "      <th class=\"col_heading level0 col10\" >Assets</th>\n",
       "      <th class=\"col_heading level0 col11\" >Debt</th>\n",
       "      <th class=\"col_heading level0 col12\" >Amount</th>\n",
       "      <th class=\"col_heading level0 col13\" >Price</th>\n",
       "      <th class=\"col_heading level0 col14\" >Finrat</th>\n",
       "      <th class=\"col_heading level0 col15\" >Savings</th>\n",
       "    </tr>\n",
       "  </thead>\n",
       "  <tbody>\n",
       "    <tr>\n",
       "      <th id=\"T_a8806_level0_row0\" class=\"row_heading level0 row0\" >Status</th>\n",
       "      <td id=\"T_a8806_row0_col0\" class=\"data row0 col0\" >1.000</td>\n",
       "      <td id=\"T_a8806_row0_col1\" class=\"data row0 col1\" >0.260</td>\n",
       "      <td id=\"T_a8806_row0_col2\" class=\"data row0 col2\" >-0.123</td>\n",
       "      <td id=\"T_a8806_row0_col3\" class=\"data row0 col3\" >-0.101</td>\n",
       "      <td id=\"T_a8806_row0_col4\" class=\"data row0 col4\" >0.095</td>\n",
       "      <td id=\"T_a8806_row0_col5\" class=\"data row0 col5\" >-0.073</td>\n",
       "      <td id=\"T_a8806_row0_col6\" class=\"data row0 col6\" >-0.278</td>\n",
       "      <td id=\"T_a8806_row0_col7\" class=\"data row0 col7\" >-0.268</td>\n",
       "      <td id=\"T_a8806_row0_col8\" class=\"data row0 col8\" >-0.030</td>\n",
       "      <td id=\"T_a8806_row0_col9\" class=\"data row0 col9\" >0.144</td>\n",
       "      <td id=\"T_a8806_row0_col10\" class=\"data row0 col10\" >0.097</td>\n",
       "      <td id=\"T_a8806_row0_col11\" class=\"data row0 col11\" >-0.010</td>\n",
       "      <td id=\"T_a8806_row0_col12\" class=\"data row0 col12\" >-0.154</td>\n",
       "      <td id=\"T_a8806_row0_col13\" class=\"data row0 col13\" >-0.010</td>\n",
       "      <td id=\"T_a8806_row0_col14\" class=\"data row0 col14\" >-0.222</td>\n",
       "      <td id=\"T_a8806_row0_col15\" class=\"data row0 col15\" >0.186</td>\n",
       "    </tr>\n",
       "    <tr>\n",
       "      <th id=\"T_a8806_level0_row1\" class=\"row_heading level0 row1\" >Seniority</th>\n",
       "      <td id=\"T_a8806_row1_col0\" class=\"data row1 col0\" >0.260</td>\n",
       "      <td id=\"T_a8806_row1_col1\" class=\"data row1 col1\" >1.000</td>\n",
       "      <td id=\"T_a8806_row1_col2\" class=\"data row1 col2\" >-0.121</td>\n",
       "      <td id=\"T_a8806_row1_col3\" class=\"data row1 col3\" >-0.022</td>\n",
       "      <td id=\"T_a8806_row1_col4\" class=\"data row1 col4\" >0.506</td>\n",
       "      <td id=\"T_a8806_row1_col5\" class=\"data row1 col5\" >-0.229</td>\n",
       "      <td id=\"T_a8806_row1_col6\" class=\"data row1 col6\" >-0.016</td>\n",
       "      <td id=\"T_a8806_row1_col7\" class=\"data row1 col7\" >-0.271</td>\n",
       "      <td id=\"T_a8806_row1_col8\" class=\"data row1 col8\" >0.126</td>\n",
       "      <td id=\"T_a8806_row1_col9\" class=\"data row1 col9\" >0.121</td>\n",
       "      <td id=\"T_a8806_row1_col10\" class=\"data row1 col10\" >0.124</td>\n",
       "      <td id=\"T_a8806_row1_col11\" class=\"data row1 col11\" >-0.019</td>\n",
       "      <td id=\"T_a8806_row1_col12\" class=\"data row1 col12\" >-0.008</td>\n",
       "      <td id=\"T_a8806_row1_col13\" class=\"data row1 col13\" >0.041</td>\n",
       "      <td id=\"T_a8806_row1_col14\" class=\"data row1 col14\" >-0.073</td>\n",
       "      <td id=\"T_a8806_row1_col15\" class=\"data row1 col15\" >0.093</td>\n",
       "    </tr>\n",
       "    <tr>\n",
       "      <th id=\"T_a8806_level0_row2\" class=\"row_heading level0 row2\" >Home</th>\n",
       "      <td id=\"T_a8806_row2_col0\" class=\"data row2 col0\" >-0.123</td>\n",
       "      <td id=\"T_a8806_row2_col1\" class=\"data row2 col1\" >-0.121</td>\n",
       "      <td id=\"T_a8806_row2_col2\" class=\"data row2 col2\" >1.000</td>\n",
       "      <td id=\"T_a8806_row2_col3\" class=\"data row2 col3\" >0.041</td>\n",
       "      <td id=\"T_a8806_row2_col4\" class=\"data row2 col4\" >-0.108</td>\n",
       "      <td id=\"T_a8806_row2_col5\" class=\"data row2 col5\" >0.052</td>\n",
       "      <td id=\"T_a8806_row2_col6\" class=\"data row2 col6\" >0.020</td>\n",
       "      <td id=\"T_a8806_row2_col7\" class=\"data row2 col7\" >0.016</td>\n",
       "      <td id=\"T_a8806_row2_col8\" class=\"data row2 col8\" >0.176</td>\n",
       "      <td id=\"T_a8806_row2_col9\" class=\"data row2 col9\" >-0.039</td>\n",
       "      <td id=\"T_a8806_row2_col10\" class=\"data row2 col10\" >-0.183</td>\n",
       "      <td id=\"T_a8806_row2_col11\" class=\"data row2 col11\" >-0.098</td>\n",
       "      <td id=\"T_a8806_row2_col12\" class=\"data row2 col12\" >-0.032</td>\n",
       "      <td id=\"T_a8806_row2_col13\" class=\"data row2 col13\" >-0.087</td>\n",
       "      <td id=\"T_a8806_row2_col14\" class=\"data row2 col14\" >0.089</td>\n",
       "      <td id=\"T_a8806_row2_col15\" class=\"data row2 col15\" >-0.041</td>\n",
       "    </tr>\n",
       "    <tr>\n",
       "      <th id=\"T_a8806_level0_row3\" class=\"row_heading level0 row3\" >Time</th>\n",
       "      <td id=\"T_a8806_row3_col0\" class=\"data row3 col0\" >-0.101</td>\n",
       "      <td id=\"T_a8806_row3_col1\" class=\"data row3 col1\" >-0.022</td>\n",
       "      <td id=\"T_a8806_row3_col2\" class=\"data row3 col2\" >0.041</td>\n",
       "      <td id=\"T_a8806_row3_col3\" class=\"data row3 col3\" >1.000</td>\n",
       "      <td id=\"T_a8806_row3_col4\" class=\"data row3 col4\" >-0.052</td>\n",
       "      <td id=\"T_a8806_row3_col5\" class=\"data row3 col5\" >-0.039</td>\n",
       "      <td id=\"T_a8806_row3_col6\" class=\"data row3 col6\" >0.028</td>\n",
       "      <td id=\"T_a8806_row3_col7\" class=\"data row3 col7\" >-0.077</td>\n",
       "      <td id=\"T_a8806_row3_col8\" class=\"data row3 col8\" >-0.002</td>\n",
       "      <td id=\"T_a8806_row3_col9\" class=\"data row3 col9\" >-0.030</td>\n",
       "      <td id=\"T_a8806_row3_col10\" class=\"data row3 col10\" >-0.083</td>\n",
       "      <td id=\"T_a8806_row3_col11\" class=\"data row3 col11\" >0.058</td>\n",
       "      <td id=\"T_a8806_row3_col12\" class=\"data row3 col12\" >0.431</td>\n",
       "      <td id=\"T_a8806_row3_col13\" class=\"data row3 col13\" >0.130</td>\n",
       "      <td id=\"T_a8806_row3_col14\" class=\"data row3 col14\" >0.469</td>\n",
       "      <td id=\"T_a8806_row3_col15\" class=\"data row3 col15\" >0.102</td>\n",
       "    </tr>\n",
       "    <tr>\n",
       "      <th id=\"T_a8806_level0_row4\" class=\"row_heading level0 row4\" >Age</th>\n",
       "      <td id=\"T_a8806_row4_col0\" class=\"data row4 col0\" >0.095</td>\n",
       "      <td id=\"T_a8806_row4_col1\" class=\"data row4 col1\" >0.506</td>\n",
       "      <td id=\"T_a8806_row4_col2\" class=\"data row4 col2\" >-0.108</td>\n",
       "      <td id=\"T_a8806_row4_col3\" class=\"data row4 col3\" >-0.052</td>\n",
       "      <td id=\"T_a8806_row4_col4\" class=\"data row4 col4\" >1.000</td>\n",
       "      <td id=\"T_a8806_row4_col5\" class=\"data row4 col5\" >-0.358</td>\n",
       "      <td id=\"T_a8806_row4_col6\" class=\"data row4 col6\" >0.060</td>\n",
       "      <td id=\"T_a8806_row4_col7\" class=\"data row4 col7\" >-0.061</td>\n",
       "      <td id=\"T_a8806_row4_col8\" class=\"data row4 col8\" >0.248</td>\n",
       "      <td id=\"T_a8806_row4_col9\" class=\"data row4 col9\" >0.148</td>\n",
       "      <td id=\"T_a8806_row4_col10\" class=\"data row4 col10\" >0.181</td>\n",
       "      <td id=\"T_a8806_row4_col11\" class=\"data row4 col11\" >-0.046</td>\n",
       "      <td id=\"T_a8806_row4_col12\" class=\"data row4 col12\" >0.029</td>\n",
       "      <td id=\"T_a8806_row4_col13\" class=\"data row4 col13\" >0.049</td>\n",
       "      <td id=\"T_a8806_row4_col14\" class=\"data row4 col14\" >-0.035</td>\n",
       "      <td id=\"T_a8806_row4_col15\" class=\"data row4 col15\" >0.062</td>\n",
       "    </tr>\n",
       "    <tr>\n",
       "      <th id=\"T_a8806_level0_row5\" class=\"row_heading level0 row5\" >Marital</th>\n",
       "      <td id=\"T_a8806_row5_col0\" class=\"data row5 col0\" >-0.073</td>\n",
       "      <td id=\"T_a8806_row5_col1\" class=\"data row5 col1\" >-0.229</td>\n",
       "      <td id=\"T_a8806_row5_col2\" class=\"data row5 col2\" >0.052</td>\n",
       "      <td id=\"T_a8806_row5_col3\" class=\"data row5 col3\" >-0.039</td>\n",
       "      <td id=\"T_a8806_row5_col4\" class=\"data row5 col4\" >-0.358</td>\n",
       "      <td id=\"T_a8806_row5_col5\" class=\"data row5 col5\" >1.000</td>\n",
       "      <td id=\"T_a8806_row5_col6\" class=\"data row5 col6\" >-0.054</td>\n",
       "      <td id=\"T_a8806_row5_col7\" class=\"data row5 col7\" >0.106</td>\n",
       "      <td id=\"T_a8806_row5_col8\" class=\"data row5 col8\" >-0.484</td>\n",
       "      <td id=\"T_a8806_row5_col9\" class=\"data row5 col9\" >-0.141</td>\n",
       "      <td id=\"T_a8806_row5_col10\" class=\"data row5 col10\" >-0.062</td>\n",
       "      <td id=\"T_a8806_row5_col11\" class=\"data row5 col11\" >-0.054</td>\n",
       "      <td id=\"T_a8806_row5_col12\" class=\"data row5 col12\" >-0.072</td>\n",
       "      <td id=\"T_a8806_row5_col13\" class=\"data row5 col13\" >-0.102</td>\n",
       "      <td id=\"T_a8806_row5_col14\" class=\"data row5 col14\" >0.033</td>\n",
       "      <td id=\"T_a8806_row5_col15\" class=\"data row5 col15\" >0.000</td>\n",
       "    </tr>\n",
       "    <tr>\n",
       "      <th id=\"T_a8806_level0_row6\" class=\"row_heading level0 row6\" >Records</th>\n",
       "      <td id=\"T_a8806_row6_col0\" class=\"data row6 col0\" >-0.278</td>\n",
       "      <td id=\"T_a8806_row6_col1\" class=\"data row6 col1\" >-0.016</td>\n",
       "      <td id=\"T_a8806_row6_col2\" class=\"data row6 col2\" >0.020</td>\n",
       "      <td id=\"T_a8806_row6_col3\" class=\"data row6 col3\" >0.028</td>\n",
       "      <td id=\"T_a8806_row6_col4\" class=\"data row6 col4\" >0.060</td>\n",
       "      <td id=\"T_a8806_row6_col5\" class=\"data row6 col5\" >-0.054</td>\n",
       "      <td id=\"T_a8806_row6_col6\" class=\"data row6 col6\" >1.000</td>\n",
       "      <td id=\"T_a8806_row6_col7\" class=\"data row6 col7\" >-0.000</td>\n",
       "      <td id=\"T_a8806_row6_col8\" class=\"data row6 col8\" >0.058</td>\n",
       "      <td id=\"T_a8806_row6_col9\" class=\"data row6 col9\" >0.053</td>\n",
       "      <td id=\"T_a8806_row6_col10\" class=\"data row6 col10\" >0.021</td>\n",
       "      <td id=\"T_a8806_row6_col11\" class=\"data row6 col11\" >0.023</td>\n",
       "      <td id=\"T_a8806_row6_col12\" class=\"data row6 col12\" >0.111</td>\n",
       "      <td id=\"T_a8806_row6_col13\" class=\"data row6 col13\" >0.085</td>\n",
       "      <td id=\"T_a8806_row6_col14\" class=\"data row6 col14\" >0.051</td>\n",
       "      <td id=\"T_a8806_row6_col15\" class=\"data row6 col15\" >-0.003</td>\n",
       "    </tr>\n",
       "    <tr>\n",
       "      <th id=\"T_a8806_level0_row7\" class=\"row_heading level0 row7\" >Job</th>\n",
       "      <td id=\"T_a8806_row7_col0\" class=\"data row7 col0\" >-0.268</td>\n",
       "      <td id=\"T_a8806_row7_col1\" class=\"data row7 col1\" >-0.271</td>\n",
       "      <td id=\"T_a8806_row7_col2\" class=\"data row7 col2\" >0.016</td>\n",
       "      <td id=\"T_a8806_row7_col3\" class=\"data row7 col3\" >-0.077</td>\n",
       "      <td id=\"T_a8806_row7_col4\" class=\"data row7 col4\" >-0.061</td>\n",
       "      <td id=\"T_a8806_row7_col5\" class=\"data row7 col5\" >0.106</td>\n",
       "      <td id=\"T_a8806_row7_col6\" class=\"data row7 col6\" >-0.000</td>\n",
       "      <td id=\"T_a8806_row7_col7\" class=\"data row7 col7\" >1.000</td>\n",
       "      <td id=\"T_a8806_row7_col8\" class=\"data row7 col8\" >-0.064</td>\n",
       "      <td id=\"T_a8806_row7_col9\" class=\"data row7 col9\" >-0.111</td>\n",
       "      <td id=\"T_a8806_row7_col10\" class=\"data row7 col10\" >0.045</td>\n",
       "      <td id=\"T_a8806_row7_col11\" class=\"data row7 col11\" >-0.010</td>\n",
       "      <td id=\"T_a8806_row7_col12\" class=\"data row7 col12\" >-0.026</td>\n",
       "      <td id=\"T_a8806_row7_col13\" class=\"data row7 col13\" >-0.063</td>\n",
       "      <td id=\"T_a8806_row7_col14\" class=\"data row7 col14\" >0.052</td>\n",
       "      <td id=\"T_a8806_row7_col15\" class=\"data row7 col15\" >-0.123</td>\n",
       "    </tr>\n",
       "    <tr>\n",
       "      <th id=\"T_a8806_level0_row8\" class=\"row_heading level0 row8\" >Expenses</th>\n",
       "      <td id=\"T_a8806_row8_col0\" class=\"data row8 col0\" >-0.030</td>\n",
       "      <td id=\"T_a8806_row8_col1\" class=\"data row8 col1\" >0.126</td>\n",
       "      <td id=\"T_a8806_row8_col2\" class=\"data row8 col2\" >0.176</td>\n",
       "      <td id=\"T_a8806_row8_col3\" class=\"data row8 col3\" >-0.002</td>\n",
       "      <td id=\"T_a8806_row8_col4\" class=\"data row8 col4\" >0.248</td>\n",
       "      <td id=\"T_a8806_row8_col5\" class=\"data row8 col5\" >-0.484</td>\n",
       "      <td id=\"T_a8806_row8_col6\" class=\"data row8 col6\" >0.058</td>\n",
       "      <td id=\"T_a8806_row8_col7\" class=\"data row8 col7\" >-0.064</td>\n",
       "      <td id=\"T_a8806_row8_col8\" class=\"data row8 col8\" >1.000</td>\n",
       "      <td id=\"T_a8806_row8_col9\" class=\"data row8 col9\" >0.255</td>\n",
       "      <td id=\"T_a8806_row8_col10\" class=\"data row8 col10\" >0.019</td>\n",
       "      <td id=\"T_a8806_row8_col11\" class=\"data row8 col11\" >0.015</td>\n",
       "      <td id=\"T_a8806_row8_col12\" class=\"data row8 col12\" >0.050</td>\n",
       "      <td id=\"T_a8806_row8_col13\" class=\"data row8 col13\" >0.041</td>\n",
       "      <td id=\"T_a8806_row8_col14\" class=\"data row8 col14\" >0.025</td>\n",
       "      <td id=\"T_a8806_row8_col15\" class=\"data row8 col15\" >-0.038</td>\n",
       "    </tr>\n",
       "    <tr>\n",
       "      <th id=\"T_a8806_level0_row9\" class=\"row_heading level0 row9\" >Income</th>\n",
       "      <td id=\"T_a8806_row9_col0\" class=\"data row9 col0\" >0.144</td>\n",
       "      <td id=\"T_a8806_row9_col1\" class=\"data row9 col1\" >0.121</td>\n",
       "      <td id=\"T_a8806_row9_col2\" class=\"data row9 col2\" >-0.039</td>\n",
       "      <td id=\"T_a8806_row9_col3\" class=\"data row9 col3\" >-0.030</td>\n",
       "      <td id=\"T_a8806_row9_col4\" class=\"data row9 col4\" >0.148</td>\n",
       "      <td id=\"T_a8806_row9_col5\" class=\"data row9 col5\" >-0.141</td>\n",
       "      <td id=\"T_a8806_row9_col6\" class=\"data row9 col6\" >0.053</td>\n",
       "      <td id=\"T_a8806_row9_col7\" class=\"data row9 col7\" >-0.111</td>\n",
       "      <td id=\"T_a8806_row9_col8\" class=\"data row9 col8\" >0.255</td>\n",
       "      <td id=\"T_a8806_row9_col9\" class=\"data row9 col9\" >1.000</td>\n",
       "      <td id=\"T_a8806_row9_col10\" class=\"data row9 col10\" >0.219</td>\n",
       "      <td id=\"T_a8806_row9_col11\" class=\"data row9 col11\" >0.145</td>\n",
       "      <td id=\"T_a8806_row9_col12\" class=\"data row9 col12\" >0.191</td>\n",
       "      <td id=\"T_a8806_row9_col13\" class=\"data row9 col13\" >0.218</td>\n",
       "      <td id=\"T_a8806_row9_col14\" class=\"data row9 col14\" >-0.003</td>\n",
       "      <td id=\"T_a8806_row9_col15\" class=\"data row9 col15\" >0.718</td>\n",
       "    </tr>\n",
       "    <tr>\n",
       "      <th id=\"T_a8806_level0_row10\" class=\"row_heading level0 row10\" >Assets</th>\n",
       "      <td id=\"T_a8806_row10_col0\" class=\"data row10 col0\" >0.097</td>\n",
       "      <td id=\"T_a8806_row10_col1\" class=\"data row10 col1\" >0.124</td>\n",
       "      <td id=\"T_a8806_row10_col2\" class=\"data row10 col2\" >-0.183</td>\n",
       "      <td id=\"T_a8806_row10_col3\" class=\"data row10 col3\" >-0.083</td>\n",
       "      <td id=\"T_a8806_row10_col4\" class=\"data row10 col4\" >0.181</td>\n",
       "      <td id=\"T_a8806_row10_col5\" class=\"data row10 col5\" >-0.062</td>\n",
       "      <td id=\"T_a8806_row10_col6\" class=\"data row10 col6\" >0.021</td>\n",
       "      <td id=\"T_a8806_row10_col7\" class=\"data row10 col7\" >0.045</td>\n",
       "      <td id=\"T_a8806_row10_col8\" class=\"data row10 col8\" >0.019</td>\n",
       "      <td id=\"T_a8806_row10_col9\" class=\"data row10 col9\" >0.219</td>\n",
       "      <td id=\"T_a8806_row10_col10\" class=\"data row10 col10\" >1.000</td>\n",
       "      <td id=\"T_a8806_row10_col11\" class=\"data row10 col11\" >0.192</td>\n",
       "      <td id=\"T_a8806_row10_col12\" class=\"data row10 col12\" >0.144</td>\n",
       "      <td id=\"T_a8806_row10_col13\" class=\"data row10 col13\" >0.195</td>\n",
       "      <td id=\"T_a8806_row10_col14\" class=\"data row10 col14\" >-0.025</td>\n",
       "      <td id=\"T_a8806_row10_col15\" class=\"data row10 col15\" >0.067</td>\n",
       "    </tr>\n",
       "    <tr>\n",
       "      <th id=\"T_a8806_level0_row11\" class=\"row_heading level0 row11\" >Debt</th>\n",
       "      <td id=\"T_a8806_row11_col0\" class=\"data row11 col0\" >-0.010</td>\n",
       "      <td id=\"T_a8806_row11_col1\" class=\"data row11 col1\" >-0.019</td>\n",
       "      <td id=\"T_a8806_row11_col2\" class=\"data row11 col2\" >-0.098</td>\n",
       "      <td id=\"T_a8806_row11_col3\" class=\"data row11 col3\" >0.058</td>\n",
       "      <td id=\"T_a8806_row11_col4\" class=\"data row11 col4\" >-0.046</td>\n",
       "      <td id=\"T_a8806_row11_col5\" class=\"data row11 col5\" >-0.054</td>\n",
       "      <td id=\"T_a8806_row11_col6\" class=\"data row11 col6\" >0.023</td>\n",
       "      <td id=\"T_a8806_row11_col7\" class=\"data row11 col7\" >-0.010</td>\n",
       "      <td id=\"T_a8806_row11_col8\" class=\"data row11 col8\" >0.015</td>\n",
       "      <td id=\"T_a8806_row11_col9\" class=\"data row11 col9\" >0.145</td>\n",
       "      <td id=\"T_a8806_row11_col10\" class=\"data row11 col10\" >0.192</td>\n",
       "      <td id=\"T_a8806_row11_col11\" class=\"data row11 col11\" >1.000</td>\n",
       "      <td id=\"T_a8806_row11_col12\" class=\"data row11 col12\" >0.051</td>\n",
       "      <td id=\"T_a8806_row11_col13\" class=\"data row11 col13\" >0.044</td>\n",
       "      <td id=\"T_a8806_row11_col14\" class=\"data row11 col14\" >0.009</td>\n",
       "      <td id=\"T_a8806_row11_col15\" class=\"data row11 col15\" >0.005</td>\n",
       "    </tr>\n",
       "    <tr>\n",
       "      <th id=\"T_a8806_level0_row12\" class=\"row_heading level0 row12\" >Amount</th>\n",
       "      <td id=\"T_a8806_row12_col0\" class=\"data row12 col0\" >-0.154</td>\n",
       "      <td id=\"T_a8806_row12_col1\" class=\"data row12 col1\" >-0.008</td>\n",
       "      <td id=\"T_a8806_row12_col2\" class=\"data row12 col2\" >-0.032</td>\n",
       "      <td id=\"T_a8806_row12_col3\" class=\"data row12 col3\" >0.431</td>\n",
       "      <td id=\"T_a8806_row12_col4\" class=\"data row12 col4\" >0.029</td>\n",
       "      <td id=\"T_a8806_row12_col5\" class=\"data row12 col5\" >-0.072</td>\n",
       "      <td id=\"T_a8806_row12_col6\" class=\"data row12 col6\" >0.111</td>\n",
       "      <td id=\"T_a8806_row12_col7\" class=\"data row12 col7\" >-0.026</td>\n",
       "      <td id=\"T_a8806_row12_col8\" class=\"data row12 col8\" >0.050</td>\n",
       "      <td id=\"T_a8806_row12_col9\" class=\"data row12 col9\" >0.191</td>\n",
       "      <td id=\"T_a8806_row12_col10\" class=\"data row12 col10\" >0.144</td>\n",
       "      <td id=\"T_a8806_row12_col11\" class=\"data row12 col11\" >0.051</td>\n",
       "      <td id=\"T_a8806_row12_col12\" class=\"data row12 col12\" >1.000</td>\n",
       "      <td id=\"T_a8806_row12_col13\" class=\"data row12 col13\" >0.725</td>\n",
       "      <td id=\"T_a8806_row12_col14\" class=\"data row12 col14\" >0.474</td>\n",
       "      <td id=\"T_a8806_row12_col15\" class=\"data row12 col15\" >-0.149</td>\n",
       "    </tr>\n",
       "    <tr>\n",
       "      <th id=\"T_a8806_level0_row13\" class=\"row_heading level0 row13\" >Price</th>\n",
       "      <td id=\"T_a8806_row13_col0\" class=\"data row13 col0\" >-0.010</td>\n",
       "      <td id=\"T_a8806_row13_col1\" class=\"data row13 col1\" >0.041</td>\n",
       "      <td id=\"T_a8806_row13_col2\" class=\"data row13 col2\" >-0.087</td>\n",
       "      <td id=\"T_a8806_row13_col3\" class=\"data row13 col3\" >0.130</td>\n",
       "      <td id=\"T_a8806_row13_col4\" class=\"data row13 col4\" >0.049</td>\n",
       "      <td id=\"T_a8806_row13_col5\" class=\"data row13 col5\" >-0.102</td>\n",
       "      <td id=\"T_a8806_row13_col6\" class=\"data row13 col6\" >0.085</td>\n",
       "      <td id=\"T_a8806_row13_col7\" class=\"data row13 col7\" >-0.063</td>\n",
       "      <td id=\"T_a8806_row13_col8\" class=\"data row13 col8\" >0.041</td>\n",
       "      <td id=\"T_a8806_row13_col9\" class=\"data row13 col9\" >0.218</td>\n",
       "      <td id=\"T_a8806_row13_col10\" class=\"data row13 col10\" >0.195</td>\n",
       "      <td id=\"T_a8806_row13_col11\" class=\"data row13 col11\" >0.044</td>\n",
       "      <td id=\"T_a8806_row13_col12\" class=\"data row13 col12\" >0.725</td>\n",
       "      <td id=\"T_a8806_row13_col13\" class=\"data row13 col13\" >1.000</td>\n",
       "      <td id=\"T_a8806_row13_col14\" class=\"data row13 col14\" >-0.181</td>\n",
       "      <td id=\"T_a8806_row13_col15\" class=\"data row13 col15\" >-0.070</td>\n",
       "    </tr>\n",
       "    <tr>\n",
       "      <th id=\"T_a8806_level0_row14\" class=\"row_heading level0 row14\" >Finrat</th>\n",
       "      <td id=\"T_a8806_row14_col0\" class=\"data row14 col0\" >-0.222</td>\n",
       "      <td id=\"T_a8806_row14_col1\" class=\"data row14 col1\" >-0.073</td>\n",
       "      <td id=\"T_a8806_row14_col2\" class=\"data row14 col2\" >0.089</td>\n",
       "      <td id=\"T_a8806_row14_col3\" class=\"data row14 col3\" >0.469</td>\n",
       "      <td id=\"T_a8806_row14_col4\" class=\"data row14 col4\" >-0.035</td>\n",
       "      <td id=\"T_a8806_row14_col5\" class=\"data row14 col5\" >0.033</td>\n",
       "      <td id=\"T_a8806_row14_col6\" class=\"data row14 col6\" >0.051</td>\n",
       "      <td id=\"T_a8806_row14_col7\" class=\"data row14 col7\" >0.052</td>\n",
       "      <td id=\"T_a8806_row14_col8\" class=\"data row14 col8\" >0.025</td>\n",
       "      <td id=\"T_a8806_row14_col9\" class=\"data row14 col9\" >-0.003</td>\n",
       "      <td id=\"T_a8806_row14_col10\" class=\"data row14 col10\" >-0.025</td>\n",
       "      <td id=\"T_a8806_row14_col11\" class=\"data row14 col11\" >0.009</td>\n",
       "      <td id=\"T_a8806_row14_col12\" class=\"data row14 col12\" >0.474</td>\n",
       "      <td id=\"T_a8806_row14_col13\" class=\"data row14 col13\" >-0.181</td>\n",
       "      <td id=\"T_a8806_row14_col14\" class=\"data row14 col14\" >1.000</td>\n",
       "      <td id=\"T_a8806_row14_col15\" class=\"data row14 col15\" >-0.123</td>\n",
       "    </tr>\n",
       "    <tr>\n",
       "      <th id=\"T_a8806_level0_row15\" class=\"row_heading level0 row15\" >Savings</th>\n",
       "      <td id=\"T_a8806_row15_col0\" class=\"data row15 col0\" >0.186</td>\n",
       "      <td id=\"T_a8806_row15_col1\" class=\"data row15 col1\" >0.093</td>\n",
       "      <td id=\"T_a8806_row15_col2\" class=\"data row15 col2\" >-0.041</td>\n",
       "      <td id=\"T_a8806_row15_col3\" class=\"data row15 col3\" >0.102</td>\n",
       "      <td id=\"T_a8806_row15_col4\" class=\"data row15 col4\" >0.062</td>\n",
       "      <td id=\"T_a8806_row15_col5\" class=\"data row15 col5\" >0.000</td>\n",
       "      <td id=\"T_a8806_row15_col6\" class=\"data row15 col6\" >-0.003</td>\n",
       "      <td id=\"T_a8806_row15_col7\" class=\"data row15 col7\" >-0.123</td>\n",
       "      <td id=\"T_a8806_row15_col8\" class=\"data row15 col8\" >-0.038</td>\n",
       "      <td id=\"T_a8806_row15_col9\" class=\"data row15 col9\" >0.718</td>\n",
       "      <td id=\"T_a8806_row15_col10\" class=\"data row15 col10\" >0.067</td>\n",
       "      <td id=\"T_a8806_row15_col11\" class=\"data row15 col11\" >0.005</td>\n",
       "      <td id=\"T_a8806_row15_col12\" class=\"data row15 col12\" >-0.149</td>\n",
       "      <td id=\"T_a8806_row15_col13\" class=\"data row15 col13\" >-0.070</td>\n",
       "      <td id=\"T_a8806_row15_col14\" class=\"data row15 col14\" >-0.123</td>\n",
       "      <td id=\"T_a8806_row15_col15\" class=\"data row15 col15\" >1.000</td>\n",
       "    </tr>\n",
       "  </tbody>\n",
       "</table>\n"
      ],
      "text/plain": [
       "<pandas.io.formats.style.Styler at 0x147bad0d0>"
      ]
     },
     "execution_count": 84,
     "metadata": {},
     "output_type": "execute_result"
    }
   ],
   "source": [
    "## Visualising Correlation Matrix with actual Correlation Values\n",
    "cmap=sns.diverging_palette(5, 250, as_cmap=True)\n",
    "\n",
    "def magnify():\n",
    "    return [dict(selector=\"th\",\n",
    "                 props=[(\"font-size\", \"7pt\")]),\n",
    "            dict(selector=\"td\",\n",
    "                 props=[('padding', \"0em 0em\")]),\n",
    "            dict(selector=\"th:hover\",\n",
    "                 props=[(\"font-size\", \"15pt\")]),\n",
    "            dict(selector=\"tr:hover td:hover\",\n",
    "                 props=[('max-width', '200px'),\n",
    "                        ('font-size', '15pt')])\n",
    "]\n",
    "\n",
    "corr.style.background_gradient(cmap, axis=1)\\\n",
    "    .set_properties(**{'max-width': '80px', 'font-size': '10pt'})\\\n",
    "    .set_caption(\"Hover to magify\")\\\n",
    "    .set_precision(3)\\\n",
    "    .set_table_styles(magnify())"
   ]
  },
  {
   "cell_type": "markdown",
   "metadata": {},
   "source": [
    "##### Dummy variables are \"proxy\" variables or numeric stand-ins for qualitative facts in a regression model. In regression analysis, the dependent variables may be influenced not only by quantitative variables (income, output, prices, etc.), but also by qualitative variables (gender, religion, geographic region, etc.). A dummy independent variable (also called a dummy explanatory variable) which for some observation has a value of 0 will cause that variable's coefficient to have no role in influencing the dependent variable, while when the dummy takes on a value 1 its coefficient acts to alter the intercept. For example, suppose membership in a group is one of the qualitative variables relevant to a regression. If group membership is arbitrarily assigned the value of 1, then all others would get the value 0."
   ]
  },
  {
   "cell_type": "markdown",
   "metadata": {},
   "source": [
    "## Histogram Plots of all the Features in the Dataset"
   ]
  },
  {
   "cell_type": "code",
   "execution_count": 85,
   "metadata": {},
   "outputs": [
    {
     "data": {
      "image/png": "[encoded data removed]",
      "text/plain": [
       "<Figure size 1440x1080 with 16 Axes>"
      ]
     },
     "metadata": {
      "needs_background": "light"
     },
     "output_type": "display_data"
    }
   ],
   "source": [
    "num_bins = 10\n",
    "\n",
    "data.hist(bins = num_bins, figsize=(20,15))\n",
    "plt.savefig(\"Data_Histogram_Plots\")\n",
    "plt.show()"
   ]
  },
  {
   "cell_type": "markdown",
   "metadata": {},
   "source": [
    "## Scatterplots"
   ]
  },
  {
   "cell_type": "markdown",
   "metadata": {},
   "source": [
    "columns = ['Status', 'Seniority', 'Home', 'Time', 'Age', 'Marital', 'Records', 'Job', 'Expenses', 'Income', 'Assets', 'Debt', 'Amount', 'Price', 'Finrat', 'Savings']\n",
    "data.plot.scatter(x=columns[0], y=columns[14])\n",
    "data.plot.hexbin(x=columns[0], y=columns[14], gridsize=10)\n",
    "data.plot.scatter(x=columns[0], y=columns[15])\n",
    "data.plot.hexbin(x=columns[0], y=columns[15], gridsize=25)\n",
    "plt.show()"
   ]
  },
  {
   "cell_type": "markdown",
   "metadata": {},
   "source": [
    "## Creating Dummy Variables"
   ]
  },
  {
   "cell_type": "code",
   "execution_count": 86,
   "metadata": {},
   "outputs": [
    {
     "data": {
      "text/plain": [
       "['Status',\n",
       " 'Seniority',\n",
       " 'Home',\n",
       " 'Time',\n",
       " 'Age',\n",
       " 'Marital',\n",
       " 'Records',\n",
       " 'Job',\n",
       " 'Expenses',\n",
       " 'Income',\n",
       " 'Assets',\n",
       " 'Debt',\n",
       " 'Amount',\n",
       " 'Price',\n",
       " 'Finrat',\n",
       " 'Savings']"
      ]
     },
     "execution_count": 86,
     "metadata": {},
     "output_type": "execute_result"
    }
   ],
   "source": [
    "list( data.columns )"
   ]
  },
  {
   "cell_type": "code",
   "execution_count": 87,
   "metadata": {},
   "outputs": [
    {
     "data": {
      "text/plain": [
       "['Seniority',\n",
       " 'Home',\n",
       " 'Time',\n",
       " 'Age',\n",
       " 'Marital',\n",
       " 'Records',\n",
       " 'Job',\n",
       " 'Expenses',\n",
       " 'Income',\n",
       " 'Assets',\n",
       " 'Debt',\n",
       " 'Amount',\n",
       " 'Price',\n",
       " 'Finrat',\n",
       " 'Savings']"
      ]
     },
     "execution_count": 87,
     "metadata": {},
     "output_type": "execute_result"
    }
   ],
   "source": [
    "X = list( data.columns )\n",
    "X.remove( 'Status' )\n",
    "X"
   ]
  },
  {
   "cell_type": "code",
   "execution_count": 88,
   "metadata": {},
   "outputs": [],
   "source": [
    "Y = data['Status']"
   ]
  },
  {
   "cell_type": "code",
   "execution_count": 89,
   "metadata": {},
   "outputs": [
    {
     "data": {
      "text/plain": [
       "15"
      ]
     },
     "execution_count": 89,
     "metadata": {},
     "output_type": "execute_result"
    }
   ],
   "source": [
    "credit_data = pd.get_dummies( data[X], drop_first = True )\n",
    "len( credit_data.columns )"
   ]
  },
  {
   "cell_type": "code",
   "execution_count": 90,
   "metadata": {},
   "outputs": [],
   "source": [
    "### Splitting Dataset into 'Training' and 'Testing' Dataset\n",
    "from sklearn.model_selection import train_test_split\n",
    "X_train, X_test, y_train, y_test = train_test_split( data[X], Y, test_size = 0.3, random_state = 42 )"
   ]
  },
  {
   "cell_type": "markdown",
   "metadata": {},
   "source": [
    "## (3) Logistic Regression Model"
   ]
  },
  {
   "cell_type": "code",
   "execution_count": 91,
   "metadata": {},
   "outputs": [
    {
     "name": "stdout",
     "output_type": "stream",
     "text": [
      "Optimization terminated successfully.\n",
      "         Current function value: 0.451547\n",
      "         Iterations 7\n"
     ]
    }
   ],
   "source": [
    "## Using 'statsmodel.api' you can use R-style formulas together with pandas data frames to fit your models\n",
    "import statsmodels.api as sm\n",
    "logit = sm.Logit( y_train, sm.add_constant( X_train ) )\n",
    "lg = logit.fit()"
   ]
  },
  {
   "cell_type": "code",
   "execution_count": 92,
   "metadata": {},
   "outputs": [
    {
     "data": {
      "text/html": [
       "<table class=\"simpletable\">\n",
       "<caption>Logit Regression Results</caption>\n",
       "<tr>\n",
       "  <th>Dep. Variable:</th>        <td>Status</td>      <th>  No. Observations:  </th>   <td>  3112</td>  \n",
       "</tr>\n",
       "<tr>\n",
       "  <th>Model:</th>                 <td>Logit</td>      <th>  Df Residuals:      </th>   <td>  3096</td>  \n",
       "</tr>\n",
       "<tr>\n",
       "  <th>Method:</th>                 <td>MLE</td>       <th>  Df Model:          </th>   <td>    15</td>  \n",
       "</tr>\n",
       "<tr>\n",
       "  <th>Date:</th>            <td>Sat, 06 Nov 2021</td> <th>  Pseudo R-squ.:     </th>   <td>0.2336</td>  \n",
       "</tr>\n",
       "<tr>\n",
       "  <th>Time:</th>                <td>12:32:15</td>     <th>  Log-Likelihood:    </th>  <td> -1405.2</td> \n",
       "</tr>\n",
       "<tr>\n",
       "  <th>converged:</th>             <td>True</td>       <th>  LL-Null:           </th>  <td> -1833.5</td> \n",
       "</tr>\n",
       "<tr>\n",
       "  <th>Covariance Type:</th>     <td>nonrobust</td>    <th>  LLR p-value:       </th> <td>7.074e-173</td>\n",
       "</tr>\n",
       "</table>\n",
       "<table class=\"simpletable\">\n",
       "<tr>\n",
       "      <td></td>         <th>coef</th>     <th>std err</th>      <th>z</th>      <th>P>|z|</th>  <th>[0.025</th>    <th>0.975]</th>  \n",
       "</tr>\n",
       "<tr>\n",
       "  <th>const</th>     <td>    4.6164</td> <td>    0.578</td> <td>    7.987</td> <td> 0.000</td> <td>    3.484</td> <td>    5.749</td>\n",
       "</tr>\n",
       "<tr>\n",
       "  <th>Seniority</th> <td>    0.0808</td> <td>    0.009</td> <td>    9.337</td> <td> 0.000</td> <td>    0.064</td> <td>    0.098</td>\n",
       "</tr>\n",
       "<tr>\n",
       "  <th>Home</th>      <td>   -0.1420</td> <td>    0.038</td> <td>   -3.784</td> <td> 0.000</td> <td>   -0.216</td> <td>   -0.068</td>\n",
       "</tr>\n",
       "<tr>\n",
       "  <th>Time</th>      <td>    0.0062</td> <td>    0.005</td> <td>    1.354</td> <td> 0.176</td> <td>   -0.003</td> <td>    0.015</td>\n",
       "</tr>\n",
       "<tr>\n",
       "  <th>Age</th>       <td>   -0.0098</td> <td>    0.005</td> <td>   -1.860</td> <td> 0.063</td> <td>   -0.020</td> <td>    0.001</td>\n",
       "</tr>\n",
       "<tr>\n",
       "  <th>Marital</th>   <td>   -0.1995</td> <td>    0.062</td> <td>   -3.241</td> <td> 0.001</td> <td>   -0.320</td> <td>   -0.079</td>\n",
       "</tr>\n",
       "<tr>\n",
       "  <th>Records</th>   <td>   -1.6714</td> <td>    0.119</td> <td>  -14.088</td> <td> 0.000</td> <td>   -1.904</td> <td>   -1.439</td>\n",
       "</tr>\n",
       "<tr>\n",
       "  <th>Job</th>       <td>   -0.4610</td> <td>    0.047</td> <td>   -9.763</td> <td> 0.000</td> <td>   -0.554</td> <td>   -0.368</td>\n",
       "</tr>\n",
       "<tr>\n",
       "  <th>Expenses</th>  <td>   -0.0132</td> <td>    0.003</td> <td>   -3.936</td> <td> 0.000</td> <td>   -0.020</td> <td>   -0.007</td>\n",
       "</tr>\n",
       "<tr>\n",
       "  <th>Income</th>    <td>    0.0062</td> <td>    0.002</td> <td>    3.653</td> <td> 0.000</td> <td>    0.003</td> <td>    0.010</td>\n",
       "</tr>\n",
       "<tr>\n",
       "  <th>Assets</th>    <td> 3.206e-05</td> <td> 7.84e-06</td> <td>    4.088</td> <td> 0.000</td> <td> 1.67e-05</td> <td> 4.74e-05</td>\n",
       "</tr>\n",
       "<tr>\n",
       "  <th>Debt</th>      <td>   -0.0001</td> <td> 4.03e-05</td> <td>   -3.575</td> <td> 0.000</td> <td>   -0.000</td> <td>-6.52e-05</td>\n",
       "</tr>\n",
       "<tr>\n",
       "  <th>Amount</th>    <td>   -0.0004</td> <td>    0.000</td> <td>   -0.881</td> <td> 0.378</td> <td>   -0.001</td> <td>    0.000</td>\n",
       "</tr>\n",
       "<tr>\n",
       "  <th>Price</th>     <td>   -0.0003</td> <td>    0.000</td> <td>   -1.230</td> <td> 0.219</td> <td>   -0.001</td> <td>    0.000</td>\n",
       "</tr>\n",
       "<tr>\n",
       "  <th>Finrat</th>    <td>   -0.0269</td> <td>    0.006</td> <td>   -4.307</td> <td> 0.000</td> <td>   -0.039</td> <td>   -0.015</td>\n",
       "</tr>\n",
       "<tr>\n",
       "  <th>Savings</th>   <td>   -0.0032</td> <td>    0.035</td> <td>   -0.090</td> <td> 0.928</td> <td>   -0.071</td> <td>    0.065</td>\n",
       "</tr>\n",
       "</table>"
      ],
      "text/plain": [
       "<class 'statsmodels.iolib.summary.Summary'>\n",
       "\"\"\"\n",
       "                           Logit Regression Results                           \n",
       "==============================================================================\n",
       "Dep. Variable:                 Status   No. Observations:                 3112\n",
       "Model:                          Logit   Df Residuals:                     3096\n",
       "Method:                           MLE   Df Model:                           15\n",
       "Date:                Sat, 06 Nov 2021   Pseudo R-squ.:                  0.2336\n",
       "Time:                        12:32:15   Log-Likelihood:                -1405.2\n",
       "converged:                       True   LL-Null:                       -1833.5\n",
       "Covariance Type:            nonrobust   LLR p-value:                7.074e-173\n",
       "==============================================================================\n",
       "                 coef    std err          z      P>|z|      [0.025      0.975]\n",
       "------------------------------------------------------------------------------\n",
       "const          4.6164      0.578      7.987      0.000       3.484       5.749\n",
       "Seniority      0.0808      0.009      9.337      0.000       0.064       0.098\n",
       "Home          -0.1420      0.038     -3.784      0.000      -0.216      -0.068\n",
       "Time           0.0062      0.005      1.354      0.176      -0.003       0.015\n",
       "Age           -0.0098      0.005     -1.860      0.063      -0.020       0.001\n",
       "Marital       -0.1995      0.062     -3.241      0.001      -0.320      -0.079\n",
       "Records       -1.6714      0.119    -14.088      0.000      -1.904      -1.439\n",
       "Job           -0.4610      0.047     -9.763      0.000      -0.554      -0.368\n",
       "Expenses      -0.0132      0.003     -3.936      0.000      -0.020      -0.007\n",
       "Income         0.0062      0.002      3.653      0.000       0.003       0.010\n",
       "Assets      3.206e-05   7.84e-06      4.088      0.000    1.67e-05    4.74e-05\n",
       "Debt          -0.0001   4.03e-05     -3.575      0.000      -0.000   -6.52e-05\n",
       "Amount        -0.0004      0.000     -0.881      0.378      -0.001       0.000\n",
       "Price         -0.0003      0.000     -1.230      0.219      -0.001       0.000\n",
       "Finrat        -0.0269      0.006     -4.307      0.000      -0.039      -0.015\n",
       "Savings       -0.0032      0.035     -0.090      0.928      -0.071       0.065\n",
       "==============================================================================\n",
       "\"\"\""
      ]
     },
     "execution_count": 92,
     "metadata": {},
     "output_type": "execute_result"
    }
   ],
   "source": [
    "lg.summary()"
   ]
  },
  {
   "cell_type": "markdown",
   "metadata": {},
   "source": [
    "## Find Significant Variables"
   ]
  },
  {
   "cell_type": "code",
   "execution_count": 93,
   "metadata": {},
   "outputs": [],
   "source": [
    "def get_significant_vars( lm ):\n",
    "    var_p_vals_df = pd.DataFrame( lm.pvalues )\n",
    "    var_p_vals_df['vars'] = var_p_vals_df.index\n",
    "    var_p_vals_df.columns = ['pvals', 'vars']\n",
    "    return list( var_p_vals_df[var_p_vals_df.pvals <= 0.05]['vars'] )"
   ]
  },
  {
   "cell_type": "code",
   "execution_count": 94,
   "metadata": {},
   "outputs": [],
   "source": [
    "significant_vars = get_significant_vars( lg )"
   ]
  },
  {
   "cell_type": "markdown",
   "metadata": {},
   "source": [
    "### The Significant Features in the Dataset obtained are ['Seniority', 'Home', 'Marital', 'Records', 'Job', 'Expenses', 'Income', 'Assets', 'Debt', 'Finrat']"
   ]
  },
  {
   "cell_type": "code",
   "execution_count": 95,
   "metadata": {},
   "outputs": [
    {
     "data": {
      "text/plain": [
       "['const',\n",
       " 'Seniority',\n",
       " 'Home',\n",
       " 'Marital',\n",
       " 'Records',\n",
       " 'Job',\n",
       " 'Expenses',\n",
       " 'Income',\n",
       " 'Assets',\n",
       " 'Debt',\n",
       " 'Finrat']"
      ]
     },
     "execution_count": 95,
     "metadata": {},
     "output_type": "execute_result"
    }
   ],
   "source": [
    "significant_vars"
   ]
  },
  {
   "cell_type": "markdown",
   "metadata": {},
   "source": [
    "### Testing the Model and measuring Accuracy Score"
   ]
  },
  {
   "cell_type": "code",
   "execution_count": 96,
   "metadata": {},
   "outputs": [],
   "source": [
    "from sklearn import metrics"
   ]
  },
  {
   "cell_type": "code",
   "execution_count": 97,
   "metadata": {},
   "outputs": [],
   "source": [
    "def get_predictions( y_test, model ):\n",
    "    y_pred_df = pd.DataFrame( { 'actual': y_test,\n",
    "                               \"predicted_prob\": lg.predict( sm.add_constant( X_test ) ) } )\n",
    "    return y_pred_df"
   ]
  },
  {
   "cell_type": "code",
   "execution_count": 98,
   "metadata": {},
   "outputs": [],
   "source": [
    "y_pred_df = get_predictions( y_test, lg )"
   ]
  },
  {
   "cell_type": "code",
   "execution_count": 99,
   "metadata": {},
   "outputs": [
    {
     "data": {
      "text/html": [
       "<div>\n",
       "<style scoped>\n",
       "    .dataframe tbody tr th:only-of-type {\n",
       "        vertical-align: middle;\n",
       "    }\n",
       "\n",
       "    .dataframe tbody tr th {\n",
       "        vertical-align: top;\n",
       "    }\n",
       "\n",
       "    .dataframe thead th {\n",
       "        text-align: right;\n",
       "    }\n",
       "</style>\n",
       "<table border=\"1\" class=\"dataframe\">\n",
       "  <thead>\n",
       "    <tr style=\"text-align: right;\">\n",
       "      <th></th>\n",
       "      <th>actual</th>\n",
       "      <th>predicted_prob</th>\n",
       "    </tr>\n",
       "  </thead>\n",
       "  <tbody>\n",
       "    <tr>\n",
       "      <th>3286</th>\n",
       "      <td>1</td>\n",
       "      <td>0.686556</td>\n",
       "    </tr>\n",
       "    <tr>\n",
       "      <th>1550</th>\n",
       "      <td>0</td>\n",
       "      <td>0.720232</td>\n",
       "    </tr>\n",
       "    <tr>\n",
       "      <th>1103</th>\n",
       "      <td>1</td>\n",
       "      <td>0.379120</td>\n",
       "    </tr>\n",
       "    <tr>\n",
       "      <th>2301</th>\n",
       "      <td>1</td>\n",
       "      <td>0.983629</td>\n",
       "    </tr>\n",
       "    <tr>\n",
       "      <th>1001</th>\n",
       "      <td>0</td>\n",
       "      <td>0.786510</td>\n",
       "    </tr>\n",
       "    <tr>\n",
       "      <th>2446</th>\n",
       "      <td>0</td>\n",
       "      <td>0.673567</td>\n",
       "    </tr>\n",
       "    <tr>\n",
       "      <th>680</th>\n",
       "      <td>1</td>\n",
       "      <td>0.853179</td>\n",
       "    </tr>\n",
       "    <tr>\n",
       "      <th>132</th>\n",
       "      <td>1</td>\n",
       "      <td>0.949093</td>\n",
       "    </tr>\n",
       "    <tr>\n",
       "      <th>4036</th>\n",
       "      <td>1</td>\n",
       "      <td>0.896540</td>\n",
       "    </tr>\n",
       "    <tr>\n",
       "      <th>2498</th>\n",
       "      <td>1</td>\n",
       "      <td>0.331953</td>\n",
       "    </tr>\n",
       "  </tbody>\n",
       "</table>\n",
       "</div>"
      ],
      "text/plain": [
       "      actual  predicted_prob\n",
       "3286       1        0.686556\n",
       "1550       0        0.720232\n",
       "1103       1        0.379120\n",
       "2301       1        0.983629\n",
       "1001       0        0.786510\n",
       "2446       0        0.673567\n",
       "680        1        0.853179\n",
       "132        1        0.949093\n",
       "4036       1        0.896540\n",
       "2498       1        0.331953"
      ]
     },
     "execution_count": 99,
     "metadata": {},
     "output_type": "execute_result"
    }
   ],
   "source": [
    "## Calculating predicted probability for the Target Variable 'Status(Default Classes)'\n",
    "y_pred_df[0:10]"
   ]
  },
  {
   "cell_type": "code",
   "execution_count": 100,
   "metadata": {},
   "outputs": [],
   "source": [
    "y_pred_df['predicted'] = y_pred_df.predicted_prob.map( lambda x: 1 if x > 0.5 else 0)"
   ]
  },
  {
   "cell_type": "code",
   "execution_count": 101,
   "metadata": {},
   "outputs": [
    {
     "data": {
      "text/html": [
       "<div>\n",
       "<style scoped>\n",
       "    .dataframe tbody tr th:only-of-type {\n",
       "        vertical-align: middle;\n",
       "    }\n",
       "\n",
       "    .dataframe tbody tr th {\n",
       "        vertical-align: top;\n",
       "    }\n",
       "\n",
       "    .dataframe thead th {\n",
       "        text-align: right;\n",
       "    }\n",
       "</style>\n",
       "<table border=\"1\" class=\"dataframe\">\n",
       "  <thead>\n",
       "    <tr style=\"text-align: right;\">\n",
       "      <th></th>\n",
       "      <th>actual</th>\n",
       "      <th>predicted_prob</th>\n",
       "      <th>predicted</th>\n",
       "    </tr>\n",
       "  </thead>\n",
       "  <tbody>\n",
       "    <tr>\n",
       "      <th>3286</th>\n",
       "      <td>1</td>\n",
       "      <td>0.686556</td>\n",
       "      <td>1</td>\n",
       "    </tr>\n",
       "    <tr>\n",
       "      <th>1550</th>\n",
       "      <td>0</td>\n",
       "      <td>0.720232</td>\n",
       "      <td>1</td>\n",
       "    </tr>\n",
       "    <tr>\n",
       "      <th>1103</th>\n",
       "      <td>1</td>\n",
       "      <td>0.379120</td>\n",
       "      <td>0</td>\n",
       "    </tr>\n",
       "    <tr>\n",
       "      <th>2301</th>\n",
       "      <td>1</td>\n",
       "      <td>0.983629</td>\n",
       "      <td>1</td>\n",
       "    </tr>\n",
       "    <tr>\n",
       "      <th>1001</th>\n",
       "      <td>0</td>\n",
       "      <td>0.786510</td>\n",
       "      <td>1</td>\n",
       "    </tr>\n",
       "    <tr>\n",
       "      <th>2446</th>\n",
       "      <td>0</td>\n",
       "      <td>0.673567</td>\n",
       "      <td>1</td>\n",
       "    </tr>\n",
       "    <tr>\n",
       "      <th>680</th>\n",
       "      <td>1</td>\n",
       "      <td>0.853179</td>\n",
       "      <td>1</td>\n",
       "    </tr>\n",
       "    <tr>\n",
       "      <th>132</th>\n",
       "      <td>1</td>\n",
       "      <td>0.949093</td>\n",
       "      <td>1</td>\n",
       "    </tr>\n",
       "    <tr>\n",
       "      <th>4036</th>\n",
       "      <td>1</td>\n",
       "      <td>0.896540</td>\n",
       "      <td>1</td>\n",
       "    </tr>\n",
       "    <tr>\n",
       "      <th>2498</th>\n",
       "      <td>1</td>\n",
       "      <td>0.331953</td>\n",
       "      <td>0</td>\n",
       "    </tr>\n",
       "  </tbody>\n",
       "</table>\n",
       "</div>"
      ],
      "text/plain": [
       "      actual  predicted_prob  predicted\n",
       "3286       1        0.686556          1\n",
       "1550       0        0.720232          1\n",
       "1103       1        0.379120          0\n",
       "2301       1        0.983629          1\n",
       "1001       0        0.786510          1\n",
       "2446       0        0.673567          1\n",
       "680        1        0.853179          1\n",
       "132        1        0.949093          1\n",
       "4036       1        0.896540          1\n",
       "2498       1        0.331953          0"
      ]
     },
     "execution_count": 101,
     "metadata": {},
     "output_type": "execute_result"
    }
   ],
   "source": [
    "y_pred_df[0:10]"
   ]
  },
  {
   "cell_type": "code",
   "execution_count": 102,
   "metadata": {},
   "outputs": [
    {
     "name": "stdout",
     "output_type": "stream",
     "text": [
      "Using matplotlib backend: MacOSX\n"
     ]
    }
   ],
   "source": [
    "import matplotlib.pylab as plt\n",
    "%matplotlib"
   ]
  },
  {
   "cell_type": "code",
   "execution_count": 103,
   "metadata": {},
   "outputs": [],
   "source": [
    "def draw_cm( actual, predicted ):\n",
    "    cm = metrics.confusion_matrix( actual, predicted, labels=[1,0] )\n",
    "    sns.heatmap(cm, annot=True,  fmt='.2f', xticklabels = [\"No Default\", \"Default\"] , yticklabels = [\"No Default\", \"Default\"] )\n",
    "    plt.ylabel('True label')\n",
    "    plt.xlabel('Predicted label')\n",
    "    plt.show()"
   ]
  },
  {
   "cell_type": "code",
   "execution_count": 104,
   "metadata": {},
   "outputs": [],
   "source": [
    "draw_cm( y_pred_df.actual, y_pred_df.predicted )"
   ]
  },
  {
   "cell_type": "code",
   "execution_count": 105,
   "metadata": {},
   "outputs": [
    {
     "name": "stdout",
     "output_type": "stream",
     "text": [
      "Total Accuracy :  0.79\n",
      "Precision :  0.81\n",
      "Recall :  0.92\n",
      "Sensitivity :  0.92\n",
      "Specificity :  0.47\n"
     ]
    }
   ],
   "source": [
    "## Finding Overall Accuracy of the Model\n",
    "print( 'Total Accuracy : ',np.round( metrics.accuracy_score( y_test, y_pred_df.predicted ), 2 ) )\n",
    "print( 'Precision : ',np.round( metrics.precision_score( y_test, y_pred_df.predicted ), 2 ) )\n",
    "print( 'Recall : ',np.round( metrics.recall_score( y_test, y_pred_df.predicted ), 2 ) )\n",
    "\n",
    "cm1 = metrics.confusion_matrix( y_pred_df.actual, y_pred_df.predicted, labels=[1,0] )\n",
    "\n",
    "sensitivity = cm1[0,0]/(cm1[0,0]+cm1[0,1])\n",
    "print('Sensitivity : ', round( sensitivity, 2) )\n",
    "\n",
    "specificity = cm1[1,1]/(cm1[1,0]+cm1[1,1])\n",
    "print('Specificity : ', round( specificity, 2 ) )"
   ]
  },
  {
   "cell_type": "markdown",
   "metadata": {},
   "source": [
    "### Predicted Probability distribution Plots for Defaults(BAD) and Non Defaults(GOOD)"
   ]
  },
  {
   "cell_type": "code",
   "execution_count": 106,
   "metadata": {},
   "outputs": [
    {
     "name": "stderr",
     "output_type": "stream",
     "text": [
      "/usr/local/lib/python3.9/site-packages/seaborn/distributions.py:2619: FutureWarning: `distplot` is a deprecated function and will be removed in a future version. Please adapt your code to use either `displot` (a figure-level function with similar flexibility) or `histplot` (an axes-level function for histograms).\n",
      "  warnings.warn(msg, FutureWarning)\n"
     ]
    },
    {
     "data": {
      "text/plain": [
       "<AxesSubplot:xlabel='predicted_prob', ylabel='True label'>"
      ]
     },
     "execution_count": 106,
     "metadata": {},
     "output_type": "execute_result"
    }
   ],
   "source": [
    "sns.distplot( y_pred_df[y_pred_df.actual == 1][\"predicted_prob\"], kde=False, color = 'b' )\n",
    "sns.distplot( y_pred_df[y_pred_df.actual == 0][\"predicted_prob\"], kde=False, color = 'g' )"
   ]
  },
  {
   "cell_type": "code",
   "execution_count": 107,
   "metadata": {},
   "outputs": [
    {
     "data": {
      "text/plain": [
       "0.84"
      ]
     },
     "execution_count": 107,
     "metadata": {},
     "output_type": "execute_result"
    }
   ],
   "source": [
    "auc_score = metrics.roc_auc_score( y_pred_df.actual, y_pred_df.predicted_prob  )\n",
    "round( float( auc_score ), 2 )"
   ]
  },
  {
   "cell_type": "markdown",
   "metadata": {},
   "source": [
    "### Plotting ROC Curve "
   ]
  },
  {
   "cell_type": "code",
   "execution_count": 108,
   "metadata": {},
   "outputs": [],
   "source": [
    "def draw_roc( actual, probs ):\n",
    "    fpr, tpr, thresholds = metrics.roc_curve( actual, probs,\n",
    "                                              drop_intermediate = False )\n",
    "    auc_score = metrics.roc_auc_score( actual, probs )\n",
    "    plt.figure(figsize=(6, 4))\n",
    "    plt.plot( fpr, tpr, label='ROC curve (area = %0.2f)' % auc_score )\n",
    "    plt.plot([0, 1], [0, 1], 'k--')\n",
    "    plt.xlim([0.0, 1.0])\n",
    "    plt.ylim([0.0, 1.05])\n",
    "    plt.xlabel('False Positive Rate or [1 - True Negative Rate]')\n",
    "    plt.ylabel('True Positive Rate')\n",
    "    plt.title('Receiver operating characteristic example')\n",
    "    plt.legend(loc=\"lower right\")\n",
    "    plt.show()\n",
    "\n",
    "    return fpr, tpr, thresholds"
   ]
  },
  {
   "cell_type": "code",
   "execution_count": 109,
   "metadata": {},
   "outputs": [],
   "source": [
    "fpr, tpr, thresholds = draw_roc( y_pred_df.actual, y_pred_df.predicted_prob )"
   ]
  },
  {
   "cell_type": "markdown",
   "metadata": {},
   "source": [
    "### Finding Optimal Cutt-off Probability"
   ]
  },
  {
   "cell_type": "code",
   "execution_count": 110,
   "metadata": {},
   "outputs": [
    {
     "data": {
      "text/plain": [
       "array([1.99996788, 0.99996788, 0.99992222, 0.99918371, 0.99840055,\n",
       "       0.99827602, 0.99757991, 0.99713821, 0.99679948, 0.99573036])"
      ]
     },
     "execution_count": 110,
     "metadata": {},
     "output_type": "execute_result"
    }
   ],
   "source": [
    "thresholds[0:10]"
   ]
  },
  {
   "cell_type": "code",
   "execution_count": 111,
   "metadata": {},
   "outputs": [
    {
     "data": {
      "text/plain": [
       "array([0., 0., 0., 0., 0., 0., 0., 0., 0., 0.])"
      ]
     },
     "execution_count": 111,
     "metadata": {},
     "output_type": "execute_result"
    }
   ],
   "source": [
    "fpr[0:10]"
   ]
  },
  {
   "cell_type": "code",
   "execution_count": 112,
   "metadata": {},
   "outputs": [
    {
     "data": {
      "text/plain": [
       "array([0.        , 0.00105932, 0.00211864, 0.00317797, 0.00423729,\n",
       "       0.00529661, 0.00635593, 0.00741525, 0.00847458, 0.0095339 ])"
      ]
     },
     "execution_count": 112,
     "metadata": {},
     "output_type": "execute_result"
    }
   ],
   "source": [
    "tpr[0:10]"
   ]
  },
  {
   "cell_type": "markdown",
   "metadata": {},
   "source": [
    "## Find Optimal Cut-off Using YOUDEN's INDEX\n",
    "#### Youden's J statistic (also called Youden's index) is a single statistic that captures the performance of a dichotomous diagnostic test. Informedness is its generalization to the multiclass case and estimates the probability of an informed decision.\n",
    "![Youden's Index Formula](files/Capture.PNG \"YOUDEN's INDEX\")\n",
    "#### That is when (TPR+TNR -1) is maximum. || max( TPR - (1 - TNR) ) || max( TPR - FPR )"
   ]
  },
  {
   "cell_type": "code",
   "execution_count": 113,
   "metadata": {},
   "outputs": [
    {
     "data": {
      "text/html": [
       "<div>\n",
       "<style scoped>\n",
       "    .dataframe tbody tr th:only-of-type {\n",
       "        vertical-align: middle;\n",
       "    }\n",
       "\n",
       "    .dataframe tbody tr th {\n",
       "        vertical-align: top;\n",
       "    }\n",
       "\n",
       "    .dataframe thead th {\n",
       "        text-align: right;\n",
       "    }\n",
       "</style>\n",
       "<table border=\"1\" class=\"dataframe\">\n",
       "  <thead>\n",
       "    <tr style=\"text-align: right;\">\n",
       "      <th></th>\n",
       "      <th>tpr</th>\n",
       "      <th>fpr</th>\n",
       "      <th>thresholds</th>\n",
       "      <th>diff</th>\n",
       "    </tr>\n",
       "  </thead>\n",
       "  <tbody>\n",
       "    <tr>\n",
       "      <th>789</th>\n",
       "      <td>0.753178</td>\n",
       "      <td>0.200000</td>\n",
       "      <td>0.735590</td>\n",
       "      <td>0.553178</td>\n",
       "    </tr>\n",
       "    <tr>\n",
       "      <th>788</th>\n",
       "      <td>0.752119</td>\n",
       "      <td>0.200000</td>\n",
       "      <td>0.735694</td>\n",
       "      <td>0.552119</td>\n",
       "    </tr>\n",
       "    <tr>\n",
       "      <th>794</th>\n",
       "      <td>0.756356</td>\n",
       "      <td>0.205128</td>\n",
       "      <td>0.732962</td>\n",
       "      <td>0.551228</td>\n",
       "    </tr>\n",
       "    <tr>\n",
       "      <th>787</th>\n",
       "      <td>0.751059</td>\n",
       "      <td>0.200000</td>\n",
       "      <td>0.738491</td>\n",
       "      <td>0.551059</td>\n",
       "    </tr>\n",
       "    <tr>\n",
       "      <th>790</th>\n",
       "      <td>0.753178</td>\n",
       "      <td>0.202564</td>\n",
       "      <td>0.735456</td>\n",
       "      <td>0.550614</td>\n",
       "    </tr>\n",
       "    <tr>\n",
       "      <th>793</th>\n",
       "      <td>0.755297</td>\n",
       "      <td>0.205128</td>\n",
       "      <td>0.733020</td>\n",
       "      <td>0.550168</td>\n",
       "    </tr>\n",
       "    <tr>\n",
       "      <th>786</th>\n",
       "      <td>0.750000</td>\n",
       "      <td>0.200000</td>\n",
       "      <td>0.738824</td>\n",
       "      <td>0.550000</td>\n",
       "    </tr>\n",
       "    <tr>\n",
       "      <th>792</th>\n",
       "      <td>0.754237</td>\n",
       "      <td>0.205128</td>\n",
       "      <td>0.734343</td>\n",
       "      <td>0.549109</td>\n",
       "    </tr>\n",
       "    <tr>\n",
       "      <th>785</th>\n",
       "      <td>0.748941</td>\n",
       "      <td>0.200000</td>\n",
       "      <td>0.738905</td>\n",
       "      <td>0.548941</td>\n",
       "    </tr>\n",
       "    <tr>\n",
       "      <th>795</th>\n",
       "      <td>0.756356</td>\n",
       "      <td>0.207692</td>\n",
       "      <td>0.732685</td>\n",
       "      <td>0.548664</td>\n",
       "    </tr>\n",
       "  </tbody>\n",
       "</table>\n",
       "</div>"
      ],
      "text/plain": [
       "          tpr       fpr  thresholds      diff\n",
       "789  0.753178  0.200000    0.735590  0.553178\n",
       "788  0.752119  0.200000    0.735694  0.552119\n",
       "794  0.756356  0.205128    0.732962  0.551228\n",
       "787  0.751059  0.200000    0.738491  0.551059\n",
       "790  0.753178  0.202564    0.735456  0.550614\n",
       "793  0.755297  0.205128    0.733020  0.550168\n",
       "786  0.750000  0.200000    0.738824  0.550000\n",
       "792  0.754237  0.205128    0.734343  0.549109\n",
       "785  0.748941  0.200000    0.738905  0.548941\n",
       "795  0.756356  0.207692    0.732685  0.548664"
      ]
     },
     "execution_count": 113,
     "metadata": {},
     "output_type": "execute_result"
    }
   ],
   "source": [
    "tpr_fpr = pd.DataFrame( { 'tpr': tpr, 'fpr': fpr, 'thresholds': thresholds } )\n",
    "tpr_fpr['diff'] = tpr_fpr.tpr - tpr_fpr.fpr\n",
    "tpr_fpr.sort_values( 'diff', ascending = False )[0:10]"
   ]
  },
  {
   "cell_type": "code",
   "execution_count": 114,
   "metadata": {},
   "outputs": [],
   "source": [
    "y_pred_df['predicted_new'] = y_pred_df.predicted_prob.map( lambda x: 1 if x > 0.29 else 0)"
   ]
  },
  {
   "cell_type": "code",
   "execution_count": 115,
   "metadata": {},
   "outputs": [],
   "source": [
    "draw_cm( y_pred_df.actual, y_pred_df.predicted_new )"
   ]
  },
  {
   "cell_type": "markdown",
   "metadata": {},
   "source": [
    "## Finding Optimal Cut-off Probability using Cost\n"
   ]
  },
  {
   "cell_type": "code",
   "execution_count": 116,
   "metadata": {},
   "outputs": [
    {
     "ename": "TypeError",
     "evalue": "confusion_matrix() takes 2 positional arguments but 3 were given",
     "output_type": "error",
     "traceback": [
      "\u001b[0;31m---------------------------------------------------------------------------\u001b[0m",
      "\u001b[0;31mTypeError\u001b[0m                                 Traceback (most recent call last)",
      "\u001b[0;32m/var/folders/v3/qlx0_w151sqf0hkwm9rrfqjc0000gn/T/ipykernel_2771/1119634196.py\u001b[0m in \u001b[0;36m<module>\u001b[0;34m\u001b[0m\n\u001b[0;32m----> 1\u001b[0;31m \u001b[0mcm\u001b[0m \u001b[0;34m=\u001b[0m \u001b[0mmetrics\u001b[0m\u001b[0;34m.\u001b[0m\u001b[0mconfusion_matrix\u001b[0m\u001b[0;34m(\u001b[0m \u001b[0my_pred_df\u001b[0m\u001b[0;34m.\u001b[0m\u001b[0mactual\u001b[0m\u001b[0;34m,\u001b[0m \u001b[0my_pred_df\u001b[0m\u001b[0;34m.\u001b[0m\u001b[0mpredicted_new\u001b[0m\u001b[0;34m,\u001b[0m \u001b[0;34m[\u001b[0m\u001b[0;36m1\u001b[0m\u001b[0;34m,\u001b[0m\u001b[0;36m0\u001b[0m\u001b[0;34m]\u001b[0m \u001b[0;34m)\u001b[0m\u001b[0;34m\u001b[0m\u001b[0;34m\u001b[0m\u001b[0m\n\u001b[0m",
      "\u001b[0;31mTypeError\u001b[0m: confusion_matrix() takes 2 positional arguments but 3 were given"
     ]
    }
   ],
   "source": [
    "cm = metrics.confusion_matrix( y_pred_df.actual, y_pred_df.predicted_new, [1,0] )"
   ]
  },
  {
   "cell_type": "code",
   "execution_count": null,
   "metadata": {},
   "outputs": [],
   "source": [
    "cm_mat = np.array( cm )"
   ]
  },
  {
   "cell_type": "code",
   "execution_count": null,
   "metadata": {},
   "outputs": [
    {
     "data": {
      "text/plain": [
       "315"
      ]
     },
     "execution_count": 49,
     "metadata": {},
     "output_type": "execute_result"
    }
   ],
   "source": [
    "cm_mat[1, 0]"
   ]
  },
  {
   "cell_type": "code",
   "execution_count": null,
   "metadata": {},
   "outputs": [
    {
     "data": {
      "text/plain": [
       "14"
      ]
     },
     "execution_count": 50,
     "metadata": {},
     "output_type": "execute_result"
    }
   ],
   "source": [
    "cm_mat[0, 1]"
   ]
  },
  {
   "cell_type": "code",
   "execution_count": null,
   "metadata": {},
   "outputs": [],
   "source": [
    "def get_total_cost( actual, predicted ):\n",
    "    cm = metrics.confusion_matrix( actual, predicted, [1,0] )\n",
    "    cm_mat = np.array( cm )\n",
    "    return cm_mat[0,1] * 2 + cm_mat[0,1] * 1"
   ]
  },
  {
   "cell_type": "code",
   "execution_count": null,
   "metadata": {},
   "outputs": [
    {
     "data": {
      "text/plain": [
       "42"
      ]
     },
     "execution_count": 52,
     "metadata": {},
     "output_type": "execute_result"
    }
   ],
   "source": [
    "get_total_cost( y_pred_df.actual, y_pred_df.predicted_new )"
   ]
  },
  {
   "cell_type": "code",
   "execution_count": null,
   "metadata": {},
   "outputs": [],
   "source": [
    "cost_df = pd.DataFrame( columns = ['prob', 'cost'])"
   ]
  },
  {
   "cell_type": "code",
   "execution_count": null,
   "metadata": {},
   "outputs": [],
   "source": [
    "idx = 0\n",
    "for each_prob in range( 20, 50):\n",
    "    cost = get_total_cost( y_pred_df.actual,\n",
    "                          y_pred_df.predicted_prob.map(\n",
    "            lambda x: 1 if x > (each_prob/100)  else 0) )\n",
    "    cost_df.loc[idx] = [(each_prob/100), cost]\n",
    "    idx += 1"
   ]
  },
  {
   "cell_type": "code",
   "execution_count": null,
   "metadata": {},
   "outputs": [
    {
     "data": {
      "text/html": [
       "<div>\n",
       "<style scoped>\n",
       "    .dataframe tbody tr th:only-of-type {\n",
       "        vertical-align: middle;\n",
       "    }\n",
       "\n",
       "    .dataframe tbody tr th {\n",
       "        vertical-align: top;\n",
       "    }\n",
       "\n",
       "    .dataframe thead th {\n",
       "        text-align: right;\n",
       "    }\n",
       "</style>\n",
       "<table border=\"1\" class=\"dataframe\">\n",
       "  <thead>\n",
       "    <tr style=\"text-align: right;\">\n",
       "      <th></th>\n",
       "      <th>prob</th>\n",
       "      <th>cost</th>\n",
       "    </tr>\n",
       "  </thead>\n",
       "  <tbody>\n",
       "    <tr>\n",
       "      <th>0</th>\n",
       "      <td>0.20</td>\n",
       "      <td>18.0</td>\n",
       "    </tr>\n",
       "    <tr>\n",
       "      <th>1</th>\n",
       "      <td>0.21</td>\n",
       "      <td>21.0</td>\n",
       "    </tr>\n",
       "    <tr>\n",
       "      <th>2</th>\n",
       "      <td>0.22</td>\n",
       "      <td>33.0</td>\n",
       "    </tr>\n",
       "    <tr>\n",
       "      <th>3</th>\n",
       "      <td>0.23</td>\n",
       "      <td>33.0</td>\n",
       "    </tr>\n",
       "    <tr>\n",
       "      <th>4</th>\n",
       "      <td>0.24</td>\n",
       "      <td>36.0</td>\n",
       "    </tr>\n",
       "  </tbody>\n",
       "</table>\n",
       "</div>"
      ],
      "text/plain": [
       "   prob  cost\n",
       "0  0.20  18.0\n",
       "1  0.21  21.0\n",
       "2  0.22  33.0\n",
       "3  0.23  33.0\n",
       "4  0.24  36.0"
      ]
     },
     "execution_count": 55,
     "metadata": {},
     "output_type": "execute_result"
    }
   ],
   "source": [
    "cost_df.sort_values( 'cost', ascending = True )[0:5]"
   ]
  },
  {
   "cell_type": "code",
   "execution_count": null,
   "metadata": {},
   "outputs": [],
   "source": [
    "y_pred_df['predicted_final'] = y_pred_df.predicted_prob.map( lambda x: 1 if x > 0.20 else 0)"
   ]
  },
  {
   "cell_type": "code",
   "execution_count": null,
   "metadata": {},
   "outputs": [
    {
     "data": {
      "image/png": "[encoded data removed]",
      "text/plain": [
       "<Figure size 432x288 with 2 Axes>"
      ]
     },
     "metadata": {
      "needs_background": "light"
     },
     "output_type": "display_data"
    }
   ],
   "source": [
    "draw_cm( y_pred_df.actual, y_pred_df.predicted_final )"
   ]
  },
  {
   "cell_type": "markdown",
   "metadata": {},
   "source": [
    "### The Accuracy of the Model got Reduced but the Quadrants that Contribute to the Cost are Minimised"
   ]
  },
  {
   "cell_type": "code",
   "execution_count": null,
   "metadata": {},
   "outputs": [
    {
     "name": "stdout",
     "output_type": "stream",
     "text": [
      "Total Accuracy :  0.73\n",
      "Precision :  0.73\n",
      "Recall :  0.99\n",
      "Sensitivity :  0.99\n",
      "Specificity :  0.1\n"
     ]
    }
   ],
   "source": [
    "print( 'Total Accuracy : ',np.round( metrics.accuracy_score( y_test, y_pred_df.predicted_final ), 2 ) )\n",
    "print( 'Precision : ',np.round( metrics.precision_score( y_test, y_pred_df.predicted_final ), 2 ) )\n",
    "print( 'Recall : ',np.round( metrics.recall_score( y_test, y_pred_df.predicted_final ), 2 ) )\n",
    "\n",
    "cm1 = metrics.confusion_matrix( y_pred_df.actual, y_pred_df.predicted_final, [1,0] )\n",
    "\n",
    "sensitivity = cm1[0,0]/(cm1[0,0]+cm1[0,1])\n",
    "print('Sensitivity : ', round( sensitivity, 2) )\n",
    "\n",
    "specificity = cm1[1,1]/(cm1[1,0]+cm1[1,1])\n",
    "print('Specificity : ', round( specificity, 2 ) )"
   ]
  },
  {
   "cell_type": "markdown",
   "metadata": {},
   "source": [
    "## (4) Decision Tree Model "
   ]
  },
  {
   "cell_type": "code",
   "execution_count": null,
   "metadata": {},
   "outputs": [],
   "source": []
  }
 ],
 "metadata": {
  "kernelspec": {
   "display_name": "Python 3",
   "language": "python",
   "name": "python3"
  },
  "language_info": {
   "codemirror_mode": {
    "name": "ipython",
    "version": 3
   },
   "file_extension": ".py",
   "mimetype": "text/x-python",
   "name": "python",
   "nbconvert_exporter": "python",
   "pygments_lexer": "ipython3",
   "version": "3.9.6"
  }
 },
 "nbformat": 4,
 "nbformat_minor": 2
}
